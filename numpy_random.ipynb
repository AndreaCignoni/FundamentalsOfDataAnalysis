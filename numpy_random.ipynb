{
  "nbformat": 4,
  "nbformat_minor": 0,
  "metadata": {
    "colab": {
      "provenance": [],
      "authorship_tag": "ABX9TyObL4yBnwLz+aN1S6A+UzfO",
      "include_colab_link": true
    },
    "kernelspec": {
      "name": "python3",
      "display_name": "Python 3"
    },
    "language_info": {
      "name": "python"
    }
  },
  "cells": [
    {
      "cell_type": "markdown",
      "metadata": {
        "id": "view-in-github",
        "colab_type": "text"
      },
      "source": [
        "<a href=\"https://colab.research.google.com/github/AndreaCignoni/FundamentalsOfDataAnalysis/blob/main/numpy_random.ipynb\" target=\"_parent\"><img src=\"https://colab.research.google.com/assets/colab-badge.svg\" alt=\"Open In Colab\"/></a>"
      ]
    },
    {
      "cell_type": "markdown",
      "source": [
        "#Random Numbers in numpy\n",
        "\n",
        "***"
      ],
      "metadata": {
        "id": "zKs_DUaJ9VlS"
      }
    },
    {
      "cell_type": "code",
      "source": [
        "# Numerical arrays, random numbers.\n",
        "\n",
        "import numpy as np\n",
        "\n",
        "# Plots.\n",
        "\n",
        "import matplotlib.pyplot as plt"
      ],
      "metadata": {
        "id": "gESed2rH2T8b"
      },
      "execution_count": null,
      "outputs": []
    },
    {
      "cell_type": "markdown",
      "source": [
        "##Python Standard Library\n",
        "\n",
        "https://docs.python.org/3/library/random.html\n",
        "\n",
        "***"
      ],
      "metadata": {
        "id": "qGMnTjNB_RgF"
      }
    },
    {
      "cell_type": "code",
      "source": [
        "# The random module from the standard library\n",
        "\n",
        "import random"
      ],
      "metadata": {
        "id": "UQidkkhEA8bA"
      },
      "execution_count": null,
      "outputs": []
    },
    {
      "cell_type": "code",
      "source": [
        "# Using autocomplete, we can get a flavour of the module.\n",
        "# Putting a question mark in front of a function name prints\n",
        "# a little help message.\n",
        "?random.randint"
      ],
      "metadata": {
        "id": "Cs2QdcDkA9Sz"
      },
      "execution_count": null,
      "outputs": []
    },
    {
      "cell_type": "code",
      "source": [
        "# Based on the above, we can generate a random integer\n",
        "# between 10 and 20, inclusive.\n",
        "random.randint(10,20)"
      ],
      "metadata": {
        "id": "u2CVePPTAf80",
        "colab": {
          "base_uri": "https://localhost:8080/"
        },
        "outputId": "4e63a73d-69f0-4973-a2fb-5843ac9a0898"
      },
      "execution_count": null,
      "outputs": [
        {
          "output_type": "execute_result",
          "data": {
            "text/plain": [
              "14"
            ]
          },
          "metadata": {},
          "execution_count": 4
        }
      ]
    },
    {
      "cell_type": "code",
      "source": [
        "# Generate a list of 100 integers between 1 and 100.\n",
        "L = [random.randint(1,10) for i in range (100) ]\n",
        "\n",
        "# Show the first 10 items of L.\n",
        "L[:10]"
      ],
      "metadata": {
        "id": "cy-ggZNyEr_2",
        "colab": {
          "base_uri": "https://localhost:8080/"
        },
        "outputId": "63569367-5a53-4d20-9b2e-d76984ea5216"
      },
      "execution_count": null,
      "outputs": [
        {
          "output_type": "execute_result",
          "data": {
            "text/plain": [
              "[10, 4, 4, 1, 4, 10, 4, 2, 1, 4]"
            ]
          },
          "metadata": {},
          "execution_count": 5
        }
      ]
    },
    {
      "cell_type": "code",
      "source": [
        "# List of car makes.\n",
        "makes = ['Toyota', 'Skoda', 'Ford', 'Renault']"
      ],
      "metadata": {
        "id": "DGFL7LeiKGrM"
      },
      "execution_count": null,
      "outputs": []
    },
    {
      "cell_type": "code",
      "source": [
        "# Select one at random\n",
        "random.choice(makes)"
      ],
      "metadata": {
        "id": "jkaAFQqzKHvI",
        "colab": {
          "base_uri": "https://localhost:8080/",
          "height": 36
        },
        "outputId": "54915991-02ca-4f9a-c7e2-c9e69670d74f"
      },
      "execution_count": null,
      "outputs": [
        {
          "output_type": "execute_result",
          "data": {
            "text/plain": [
              "'Renault'"
            ],
            "application/vnd.google.colaboratory.intrinsic+json": {
              "type": "string"
            }
          },
          "metadata": {},
          "execution_count": 7
        }
      ]
    },
    {
      "cell_type": "code",
      "source": [
        "# Select ten random makes (with replecement)\n",
        "random.choices(makes, k=10)"
      ],
      "metadata": {
        "id": "Jk-LinbnKIuL",
        "colab": {
          "base_uri": "https://localhost:8080/"
        },
        "outputId": "6d79914f-bf83-4362-cb28-c4270e935f16"
      },
      "execution_count": null,
      "outputs": [
        {
          "output_type": "execute_result",
          "data": {
            "text/plain": [
              "['Toyota',\n",
              " 'Renault',\n",
              " 'Ford',\n",
              " 'Renault',\n",
              " 'Renault',\n",
              " 'Renault',\n",
              " 'Skoda',\n",
              " 'Ford',\n",
              " 'Toyota',\n",
              " 'Renault']"
            ]
          },
          "metadata": {},
          "execution_count": 8
        }
      ]
    },
    {
      "cell_type": "code",
      "source": [
        "# First eight letters\n",
        "letters = ['A','B','C','D','E','F','G','H']"
      ],
      "metadata": {
        "id": "sD5aW6zmOOUH"
      },
      "execution_count": null,
      "outputs": []
    },
    {
      "cell_type": "code",
      "source": [
        "# Shuffle them.\n",
        "random.shuffle(letters)"
      ],
      "metadata": {
        "id": "GVaUj-uVOquj"
      },
      "execution_count": null,
      "outputs": []
    },
    {
      "cell_type": "code",
      "source": [
        "# Look at letters after shuffle.\n",
        "print(letters)"
      ],
      "metadata": {
        "id": "jY20ZnXvO7QF",
        "colab": {
          "base_uri": "https://localhost:8080/"
        },
        "outputId": "5e9e5708-a75f-4fb6-c5b9-0489b4647143"
      },
      "execution_count": null,
      "outputs": [
        {
          "output_type": "stream",
          "name": "stdout",
          "text": [
            "['B', 'E', 'A', 'H', 'G', 'F', 'C', 'D']\n"
          ]
        }
      ]
    },
    {
      "cell_type": "code",
      "source": [
        "# Random selection without replacement.\n",
        "random.sample(letters, k=3)"
      ],
      "metadata": {
        "id": "jLKyPqRcPjn0",
        "colab": {
          "base_uri": "https://localhost:8080/"
        },
        "outputId": "36e7bd01-56a8-476c-fcb7-4406ffc9f3ca"
      },
      "execution_count": null,
      "outputs": [
        {
          "output_type": "execute_result",
          "data": {
            "text/plain": [
              "['F', 'A', 'C']"
            ]
          },
          "metadata": {},
          "execution_count": 12
        }
      ]
    },
    {
      "cell_type": "code",
      "source": [
        "# Random real (floating-point) numbers. [0.0,1.0)\n",
        "random.random()"
      ],
      "metadata": {
        "id": "Nq5-P5M2Q-4j",
        "colab": {
          "base_uri": "https://localhost:8080/"
        },
        "outputId": "a9feacc2-a3db-4c57-c7e7-8673453ed715"
      },
      "execution_count": null,
      "outputs": [
        {
          "output_type": "execute_result",
          "data": {
            "text/plain": [
              "0.37883285421743074"
            ]
          },
          "metadata": {},
          "execution_count": 13
        }
      ]
    },
    {
      "cell_type": "code",
      "source": [
        "# Pick a random floating point number between 0.0 and 100.0 [0.0, 100.0]\n",
        "random.uniform(0.0,100.0)"
      ],
      "metadata": {
        "id": "4SUNAPLcR1wN",
        "colab": {
          "base_uri": "https://localhost:8080/"
        },
        "outputId": "405e3ce3-112f-4077-93f4-e8f2fcd7cd4a"
      },
      "execution_count": null,
      "outputs": [
        {
          "output_type": "execute_result",
          "data": {
            "text/plain": [
              "2.445614341487967"
            ]
          },
          "metadata": {},
          "execution_count": 14
        }
      ]
    },
    {
      "cell_type": "markdown",
      "source": [
        "## numpy\n",
        "\n",
        "[numpy: API reference Random sampling](https://numpy.org/doc/stable/reference/random/index.html)\n",
        "\n",
        "https://numpy.org/doc/stable/reference/random/index.html\n",
        "\n",
        "\n",
        "***"
      ],
      "metadata": {
        "id": "AHaMuzFe5KgW"
      }
    },
    {
      "cell_type": "code",
      "source": [
        "# Random number generator (RNG) for generating random numbers.\n",
        "rng = np.random.default_rng()"
      ],
      "metadata": {
        "id": "f-gM95Dd6QNy"
      },
      "execution_count": null,
      "outputs": []
    },
    {
      "cell_type": "code",
      "source": [
        "# Generate random floating point numbers in the interval 0.0 (inclusive) to 1.0 (exclusive).\n",
        "rng.random()"
      ],
      "metadata": {
        "colab": {
          "base_uri": "https://localhost:8080/"
        },
        "id": "pXTeX7Hl3KJl",
        "outputId": "fbce91fb-64a6-4812-acaf-97ebc794560b"
      },
      "execution_count": null,
      "outputs": [
        {
          "output_type": "execute_result",
          "data": {
            "text/plain": [
              "0.6585220051040801"
            ]
          },
          "metadata": {},
          "execution_count": 8
        }
      ]
    },
    {
      "cell_type": "markdown",
      "source": [
        "The mean is 0.0 and standard deviation is 1.0.\n",
        "\n",
        "The number generated should be, on average, centred on 0.0.\n",
        "\n",
        "More than 99% of the numbers generated should be in the interval (-3.0, 3.0)"
      ],
      "metadata": {
        "id": "Jo1s-65QHUdg"
      }
    },
    {
      "cell_type": "code",
      "source": [
        "# Generate numbers on a standard Normal distribution.\n",
        "rng.standard_normal(10)"
      ],
      "metadata": {
        "colab": {
          "base_uri": "https://localhost:8080/"
        },
        "id": "bUufDcjc8P0p",
        "outputId": "c7240dbc-fc42-49ec-abf9-84bd8e6fab80"
      },
      "execution_count": null,
      "outputs": [
        {
          "output_type": "execute_result",
          "data": {
            "text/plain": [
              "array([-1.97341084, -0.26599959,  0.84397923,  0.88504144,  1.80126819,\n",
              "       -1.54117802,  0.57646772,  0.33716731, -0.50196672,  0.31649633])"
            ]
          },
          "metadata": {},
          "execution_count": 12
        }
      ]
    },
    {
      "cell_type": "code",
      "source": [
        "# Generate 15 integers between 10 (included) and 20 (excluded).\n",
        "rng.integers(low=10, high=20, size=15)"
      ],
      "metadata": {
        "colab": {
          "base_uri": "https://localhost:8080/"
        },
        "id": "rZEYUkvd88hn",
        "outputId": "9ddacd79-8c8e-4f57-d6ec-4737c12a9e7f"
      },
      "execution_count": null,
      "outputs": [
        {
          "output_type": "execute_result",
          "data": {
            "text/plain": [
              "array([14, 12, 14, 10, 19, 19, 16, 14, 12, 19, 13, 14, 16, 16, 12])"
            ]
          },
          "metadata": {},
          "execution_count": 13
        }
      ]
    },
    {
      "cell_type": "markdown",
      "source": [
        "## Plotting distributions\n",
        "\n",
        "***"
      ],
      "metadata": {
        "id": "jak2P12GR_rk"
      }
    },
    {
      "cell_type": "code",
      "source": [
        "# The lowest integer allowed.\n",
        "low = 1\n",
        "\n",
        "# The highest integer allowed.\n",
        "high = 10\n",
        "\n",
        "# The number of integers to generate.\n",
        "size = 10000"
      ],
      "metadata": {
        "id": "D6TJn86peaUF"
      },
      "execution_count": null,
      "outputs": []
    },
    {
      "cell_type": "code",
      "source": [
        "# Unique elements of rand_ints with counts.\n",
        "np.unique(rand_ints, return_counts=True)"
      ],
      "metadata": {
        "colab": {
          "base_uri": "https://localhost:8080/"
        },
        "id": "iK40ZL3giaua",
        "outputId": "c537b0e2-cc08-4722-f6f4-4e28dc9b7f46"
      },
      "execution_count": null,
      "outputs": [
        {
          "output_type": "execute_result",
          "data": {
            "text/plain": [
              "(array([ 1,  2,  3,  4,  5,  6,  7,  8,  9, 10]),\n",
              " array([ 951, 1029,  993, 1001,  982,  989, 1024,  996, 1018, 1017]))"
            ]
          },
          "metadata": {},
          "execution_count": 17
        }
      ]
    },
    {
      "cell_type": "code",
      "source": [
        "# The unique elements of the rand_ints with counts.\n",
        "x, counts = np.unique(rand_ints, return_counts=True)\n",
        "\n",
        "# Show the x with counts array.\n",
        "x, counts"
      ],
      "metadata": {
        "colab": {
          "base_uri": "https://localhost:8080/"
        },
        "id": "y7WO2GWNkVm-",
        "outputId": "49ca5ac5-0855-4251-c32a-1ddab1674cf6"
      },
      "execution_count": null,
      "outputs": [
        {
          "output_type": "execute_result",
          "data": {
            "text/plain": [
              "(array([ 1,  2,  3,  4,  5,  6,  7,  8,  9, 10]),\n",
              " array([ 89, 103, 115, 122,  81,  95, 107,  90, 112,  86]))"
            ]
          },
          "metadata": {},
          "execution_count": 52
        }
      ]
    },
    {
      "cell_type": "code",
      "source": [
        "# Generate a list of random integers.\n",
        "rand_ints = rng.integers(low=low, high=high + 1, size=size)\n",
        "\n",
        "# Show.\n",
        "# rand_ints"
      ],
      "metadata": {
        "id": "GM5eO7N2TTm5"
      },
      "execution_count": null,
      "outputs": []
    },
    {
      "cell_type": "code",
      "source": [
        "# Create an empty plot.\n",
        "fig, ax = plt.subplots(figsize=(12, 3))\n",
        "\n",
        "# Plot a bar chart.\n",
        "ax.bar = (x, counts)"
      ],
      "metadata": {
        "colab": {
          "base_uri": "https://localhost:8080/",
          "height": 297
        },
        "id": "uwMW1FLNU9_d",
        "outputId": "7a83cea8-c295-4b6d-82ab-3f0c775e5f15"
      },
      "execution_count": null,
      "outputs": [
        {
          "output_type": "display_data",
          "data": {
            "text/plain": [
              "<Figure size 1200x300 with 1 Axes>"
            ],
            "image/png": "[encoded data removed]"
          },
          "metadata": {}
        }
      ]
    },
    {
      "cell_type": "markdown",
      "source": [
        "## Plotting Histograms\n",
        "\n",
        "***"
      ],
      "metadata": {
        "id": "dYb6b_CI3Z7r"
      }
    },
    {
      "cell_type": "code",
      "source": [
        "# The number of floating point numbers to generate.\n",
        "size = 10000"
      ],
      "metadata": {
        "id": "RJBuIHeo3zQO"
      },
      "execution_count": null,
      "outputs": []
    },
    {
      "cell_type": "code",
      "source": [
        "# Generate random floating numbers in the interval of 0.0 (inclusive) and 1.0 (exclusive)\n",
        "rand_floats = rng.random(size)\n",
        "\n",
        "# Show rand_floats.\n",
        "# rand_floats"
      ],
      "metadata": {
        "id": "4zcsk7yQ396e"
      },
      "execution_count": null,
      "outputs": []
    },
    {
      "cell_type": "code",
      "source": [
        "# The unique elements of random_floats with counts.\n",
        "x, counts = np.unique(rand_floats, return_counts=True)\n",
        "\n",
        "# Show the x and counts arrays.\n",
        "x, counts"
      ],
      "metadata": {
        "colab": {
          "base_uri": "https://localhost:8080/"
        },
        "id": "2iruoaqD3-uI",
        "outputId": "e21dbed1-107b-46ca-ddaf-9e56c35e3e3b"
      },
      "execution_count": null,
      "outputs": [
        {
          "output_type": "execute_result",
          "data": {
            "text/plain": [
              "(array([6.59249104e-07, 2.00372151e-04, 2.49265772e-04, ...,\n",
              "        9.99781927e-01, 9.99924645e-01, 9.99971794e-01]),\n",
              " array([1, 1, 1, ..., 1, 1, 1]))"
            ]
          },
          "metadata": {},
          "execution_count": 15
        }
      ]
    },
    {
      "cell_type": "code",
      "source": [
        "# Create an empty plot.\n",
        "fig, ax = plt.subplots(figsize=(12, 3))\n",
        "\n",
        "# Plot a histogram.\n",
        "ax.hist(rand_floats, bins=100)"
      ],
      "metadata": {
        "colab": {
          "base_uri": "https://localhost:8080/",
          "height": 957
        },
        "id": "-gC54QsWjGVM",
        "outputId": "a8ea14be-0f24-4f2b-ecd9-f824730c1af4"
      },
      "execution_count": null,
      "outputs": [
        {
          "output_type": "execute_result",
          "data": {
            "text/plain": [
              "(array([ 86.,  96., 107.,  99., 105., 103.,  86., 102.,  93., 112., 111.,\n",
              "        114., 120.,  95.,  95.,  93., 109., 104.,  80., 102., 101., 103.,\n",
              "        104.,  87., 120.,  95.,  98., 105., 115.,  99.,  91.,  99.,  99.,\n",
              "         93., 105.,  91.,  90.,  88., 109., 106.,  96., 110., 122., 105.,\n",
              "        103., 100., 111., 110.,  92.,  75., 107.,  96.,  90., 120., 100.,\n",
              "         95.,  95.,  91., 115., 122.,  96., 100., 101., 119., 110.,  92.,\n",
              "         91., 102., 102.,  96.,  92.,  95., 100.,  88.,  87.,  99.,  90.,\n",
              "         98., 100., 106.,  97.,  99.,  93.,  76., 104.,  96.,  96.,  82.,\n",
              "         97., 102.,  89., 107., 121., 101., 103.,  96.,  87., 114., 104.,\n",
              "        107.]),\n",
              " array([6.59249104e-07, 1.00003706e-02, 2.00000819e-02, 2.99997933e-02,\n",
              "        3.99995046e-02, 4.99992160e-02, 5.99989273e-02, 6.99986387e-02,\n",
              "        7.99983500e-02, 8.99980614e-02, 9.99977727e-02, 1.09997484e-01,\n",
              "        1.19997195e-01, 1.29996907e-01, 1.39996618e-01, 1.49996329e-01,\n",
              "        1.59996041e-01, 1.69995752e-01, 1.79995464e-01, 1.89995175e-01,\n",
              "        1.99994886e-01, 2.09994598e-01, 2.19994309e-01, 2.29994020e-01,\n",
              "        2.39993732e-01, 2.49993443e-01, 2.59993154e-01, 2.69992866e-01,\n",
              "        2.79992577e-01, 2.89992288e-01, 2.99992000e-01, 3.09991711e-01,\n",
              "        3.19991422e-01, 3.29991134e-01, 3.39990845e-01, 3.49990556e-01,\n",
              "        3.59990268e-01, 3.69989979e-01, 3.79989691e-01, 3.89989402e-01,\n",
              "        3.99989113e-01, 4.09988825e-01, 4.19988536e-01, 4.29988247e-01,\n",
              "        4.39987959e-01, 4.49987670e-01, 4.59987381e-01, 4.69987093e-01,\n",
              "        4.79986804e-01, 4.89986515e-01, 4.99986227e-01, 5.09985938e-01,\n",
              "        5.19985649e-01, 5.29985361e-01, 5.39985072e-01, 5.49984783e-01,\n",
              "        5.59984495e-01, 5.69984206e-01, 5.79983917e-01, 5.89983629e-01,\n",
              "        5.99983340e-01, 6.09983052e-01, 6.19982763e-01, 6.29982474e-01,\n",
              "        6.39982186e-01, 6.49981897e-01, 6.59981608e-01, 6.69981320e-01,\n",
              "        6.79981031e-01, 6.89980742e-01, 6.99980454e-01, 7.09980165e-01,\n",
              "        7.19979876e-01, 7.29979588e-01, 7.39979299e-01, 7.49979010e-01,\n",
              "        7.59978722e-01, 7.69978433e-01, 7.79978144e-01, 7.89977856e-01,\n",
              "        7.99977567e-01, 8.09977279e-01, 8.19976990e-01, 8.29976701e-01,\n",
              "        8.39976413e-01, 8.49976124e-01, 8.59975835e-01, 8.69975547e-01,\n",
              "        8.79975258e-01, 8.89974969e-01, 8.99974681e-01, 9.09974392e-01,\n",
              "        9.19974103e-01, 9.29973815e-01, 9.39973526e-01, 9.49973237e-01,\n",
              "        9.59972949e-01, 9.69972660e-01, 9.79972371e-01, 9.89972083e-01,\n",
              "        9.99971794e-01]),\n",
              " <BarContainer object of 100 artists>)"
            ]
          },
          "metadata": {},
          "execution_count": 17
        },
        {
          "output_type": "display_data",
          "data": {
            "text/plain": [
              "<Figure size 1200x300 with 1 Axes>"
            ],
            "image/png": "[encoded data removed]"
          },
          "metadata": {}
        }
      ]
    }
  ]
}