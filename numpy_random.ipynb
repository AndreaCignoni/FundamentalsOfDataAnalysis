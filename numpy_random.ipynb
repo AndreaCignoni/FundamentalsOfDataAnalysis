{
  "nbformat": 4,
  "nbformat_minor": 0,
  "metadata": {
    "colab": {
      "provenance": [],
      "authorship_tag": "ABX9TyNiGTDeukP4C8yXNCsoYHc1",
      "include_colab_link": true
    },
    "kernelspec": {
      "name": "python3",
      "display_name": "Python 3"
    },
    "language_info": {
      "name": "python"
    }
  },
  "cells": [
    {
      "cell_type": "markdown",
      "metadata": {
        "id": "view-in-github",
        "colab_type": "text"
      },
      "source": [
        "<a href=\"https://colab.research.google.com/github/AndreaCignoni/FundamentalsOfDataAnalysis/blob/main/numpy_random.ipynb\" target=\"_parent\"><img src=\"https://colab.research.google.com/assets/colab-badge.svg\" alt=\"Open In Colab\"/></a>"
      ]
    },
    {
      "cell_type": "markdown",
      "source": [
        "#Random Numbers in numpy\n",
        "\n",
        "***"
      ],
      "metadata": {
        "id": "zKs_DUaJ9VlS"
      }
    },
    {
      "cell_type": "code",
      "source": [
        "# Numerical arrays, random numbers.\n",
        "\n",
        "import numpy as np\n",
        "\n",
        "# Plots.\n",
        "\n",
        "import matplotlib.pyplot as plt"
      ],
      "metadata": {
        "id": "gESed2rH2T8b"
      },
      "execution_count": 26,
      "outputs": []
    },
    {
      "cell_type": "markdown",
      "source": [
        "##Python Standard Library\n",
        "\n",
        "https://docs.python.org/3/library/random.html\n",
        "\n",
        "***"
      ],
      "metadata": {
        "id": "qGMnTjNB_RgF"
      }
    },
    {
      "cell_type": "code",
      "source": [
        "# The random module from the standard library\n",
        "\n",
        "import random"
      ],
      "metadata": {
        "id": "UQidkkhEA8bA"
      },
      "execution_count": 27,
      "outputs": []
    },
    {
      "cell_type": "code",
      "source": [
        "# Using autocomplete, we can get a flavour of the module.\n",
        "# Putting a question mark in front of a function name prints\n",
        "# a little help message.\n",
        "?random.randint"
      ],
      "metadata": {
        "id": "Cs2QdcDkA9Sz"
      },
      "execution_count": null,
      "outputs": []
    },
    {
      "cell_type": "code",
      "source": [
        "# Based on the above, we can generate a random integer\n",
        "# between 10 and 20, inclusive.\n",
        "random.randint(10,20)"
      ],
      "metadata": {
        "id": "u2CVePPTAf80",
        "colab": {
          "base_uri": "https://localhost:8080/"
        },
        "outputId": "4e63a73d-69f0-4973-a2fb-5843ac9a0898"
      },
      "execution_count": null,
      "outputs": [
        {
          "output_type": "execute_result",
          "data": {
            "text/plain": [
              "14"
            ]
          },
          "metadata": {},
          "execution_count": 4
        }
      ]
    },
    {
      "cell_type": "code",
      "source": [
        "# Generate a list of 100 integers between 1 and 100.\n",
        "L = [random.randint(1,10) for i in range (100) ]\n",
        "\n",
        "# Show the first 10 items of L.\n",
        "L[:10]"
      ],
      "metadata": {
        "id": "cy-ggZNyEr_2",
        "colab": {
          "base_uri": "https://localhost:8080/"
        },
        "outputId": "63569367-5a53-4d20-9b2e-d76984ea5216"
      },
      "execution_count": null,
      "outputs": [
        {
          "output_type": "execute_result",
          "data": {
            "text/plain": [
              "[10, 4, 4, 1, 4, 10, 4, 2, 1, 4]"
            ]
          },
          "metadata": {},
          "execution_count": 5
        }
      ]
    },
    {
      "cell_type": "code",
      "source": [
        "# List of car makes.\n",
        "makes = ['Toyota', 'Skoda', 'Ford', 'Renault']"
      ],
      "metadata": {
        "id": "DGFL7LeiKGrM"
      },
      "execution_count": null,
      "outputs": []
    },
    {
      "cell_type": "code",
      "source": [
        "# Select one at random\n",
        "random.choice(makes)"
      ],
      "metadata": {
        "id": "jkaAFQqzKHvI",
        "colab": {
          "base_uri": "https://localhost:8080/",
          "height": 36
        },
        "outputId": "54915991-02ca-4f9a-c7e2-c9e69670d74f"
      },
      "execution_count": null,
      "outputs": [
        {
          "output_type": "execute_result",
          "data": {
            "text/plain": [
              "'Renault'"
            ],
            "application/vnd.google.colaboratory.intrinsic+json": {
              "type": "string"
            }
          },
          "metadata": {},
          "execution_count": 7
        }
      ]
    },
    {
      "cell_type": "code",
      "source": [
        "# Select ten random makes (with replecement)\n",
        "random.choices(makes, k=10)"
      ],
      "metadata": {
        "id": "Jk-LinbnKIuL",
        "colab": {
          "base_uri": "https://localhost:8080/"
        },
        "outputId": "6d79914f-bf83-4362-cb28-c4270e935f16"
      },
      "execution_count": null,
      "outputs": [
        {
          "output_type": "execute_result",
          "data": {
            "text/plain": [
              "['Toyota',\n",
              " 'Renault',\n",
              " 'Ford',\n",
              " 'Renault',\n",
              " 'Renault',\n",
              " 'Renault',\n",
              " 'Skoda',\n",
              " 'Ford',\n",
              " 'Toyota',\n",
              " 'Renault']"
            ]
          },
          "metadata": {},
          "execution_count": 8
        }
      ]
    },
    {
      "cell_type": "code",
      "source": [
        "# First eight letters\n",
        "letters = ['A','B','C','D','E','F','G','H']"
      ],
      "metadata": {
        "id": "sD5aW6zmOOUH"
      },
      "execution_count": null,
      "outputs": []
    },
    {
      "cell_type": "code",
      "source": [
        "# Shuffle them.\n",
        "random.shuffle(letters)"
      ],
      "metadata": {
        "id": "GVaUj-uVOquj"
      },
      "execution_count": null,
      "outputs": []
    },
    {
      "cell_type": "code",
      "source": [
        "# Look at letters after shuffle.\n",
        "print(letters)"
      ],
      "metadata": {
        "id": "jY20ZnXvO7QF",
        "colab": {
          "base_uri": "https://localhost:8080/"
        },
        "outputId": "5e9e5708-a75f-4fb6-c5b9-0489b4647143"
      },
      "execution_count": null,
      "outputs": [
        {
          "output_type": "stream",
          "name": "stdout",
          "text": [
            "['B', 'E', 'A', 'H', 'G', 'F', 'C', 'D']\n"
          ]
        }
      ]
    },
    {
      "cell_type": "code",
      "source": [
        "# Random selection without replacement.\n",
        "random.sample(letters, k=3)"
      ],
      "metadata": {
        "id": "jLKyPqRcPjn0",
        "colab": {
          "base_uri": "https://localhost:8080/"
        },
        "outputId": "36e7bd01-56a8-476c-fcb7-4406ffc9f3ca"
      },
      "execution_count": null,
      "outputs": [
        {
          "output_type": "execute_result",
          "data": {
            "text/plain": [
              "['F', 'A', 'C']"
            ]
          },
          "metadata": {},
          "execution_count": 12
        }
      ]
    },
    {
      "cell_type": "code",
      "source": [
        "# Random real (floating-point) numbers. [0.0,1.0)\n",
        "random.random()"
      ],
      "metadata": {
        "id": "Nq5-P5M2Q-4j",
        "colab": {
          "base_uri": "https://localhost:8080/"
        },
        "outputId": "a9feacc2-a3db-4c57-c7e7-8673453ed715"
      },
      "execution_count": null,
      "outputs": [
        {
          "output_type": "execute_result",
          "data": {
            "text/plain": [
              "0.37883285421743074"
            ]
          },
          "metadata": {},
          "execution_count": 13
        }
      ]
    },
    {
      "cell_type": "code",
      "source": [
        "# Pick a random floating point number between 0.0 and 100.0 [0.0, 100.0]\n",
        "random.uniform(0.0,100.0)"
      ],
      "metadata": {
        "id": "4SUNAPLcR1wN",
        "colab": {
          "base_uri": "https://localhost:8080/"
        },
        "outputId": "405e3ce3-112f-4077-93f4-e8f2fcd7cd4a"
      },
      "execution_count": null,
      "outputs": [
        {
          "output_type": "execute_result",
          "data": {
            "text/plain": [
              "2.445614341487967"
            ]
          },
          "metadata": {},
          "execution_count": 14
        }
      ]
    },
    {
      "cell_type": "markdown",
      "source": [
        "## numpy\n",
        "\n",
        "[numpy: API reference Random sampling](https://numpy.org/doc/stable/reference/random/index.html)\n",
        "\n",
        "https://numpy.org/doc/stable/reference/random/index.html\n",
        "\n",
        "\n",
        "***"
      ],
      "metadata": {
        "id": "AHaMuzFe5KgW"
      }
    },
    {
      "cell_type": "code",
      "source": [
        "# Random number generator (RNG) for generating random numbers.\n",
        "rng = np.random.default_rng()"
      ],
      "metadata": {
        "id": "f-gM95Dd6QNy"
      },
      "execution_count": null,
      "outputs": []
    },
    {
      "cell_type": "code",
      "source": [
        "# Generate random floating point numbers in the interval 0.0 (inclusive) to 1.0 (exclusive).\n",
        "rng.random()"
      ],
      "metadata": {
        "colab": {
          "base_uri": "https://localhost:8080/"
        },
        "id": "pXTeX7Hl3KJl",
        "outputId": "99c270d6-3e60-4f07-a2b7-ee4c34c1b07a"
      },
      "execution_count": null,
      "outputs": [
        {
          "output_type": "execute_result",
          "data": {
            "text/plain": [
              "0.5867838834993487"
            ]
          },
          "metadata": {},
          "execution_count": 16
        }
      ]
    },
    {
      "cell_type": "markdown",
      "source": [
        "The mean is 0.0 and standard deviation is 1.0.\n",
        "\n",
        "The number generated should be, on average, centred on 0.0.\n",
        "\n",
        "More than 99% of the numbers generated should be in the interval (-3.0, 3.0)"
      ],
      "metadata": {
        "id": "Jo1s-65QHUdg"
      }
    },
    {
      "cell_type": "code",
      "source": [
        "# Generate numbers on a standard Normal distribution.\n",
        "rng.standard_normal(10)"
      ],
      "metadata": {
        "colab": {
          "base_uri": "https://localhost:8080/"
        },
        "id": "bUufDcjc8P0p",
        "outputId": "db9116c1-9279-4b0d-f213-ffbc2e78620d"
      },
      "execution_count": null,
      "outputs": [
        {
          "output_type": "execute_result",
          "data": {
            "text/plain": [
              "array([ 0.12302071, -0.09054245,  0.06966397,  0.55382047, -0.46398023,\n",
              "        0.1513582 , -0.28454864, -0.74712101,  1.87174147,  1.4684939 ])"
            ]
          },
          "metadata": {},
          "execution_count": 17
        }
      ]
    },
    {
      "cell_type": "code",
      "source": [
        "# Generate 15 integers between 10 (included) and 20 (excluded).\n",
        "rng.integers(low=10, high=20, size=15)"
      ],
      "metadata": {
        "colab": {
          "base_uri": "https://localhost:8080/"
        },
        "id": "rZEYUkvd88hn",
        "outputId": "7352aa0f-717e-4632-ff52-23587294da1a"
      },
      "execution_count": null,
      "outputs": [
        {
          "output_type": "execute_result",
          "data": {
            "text/plain": [
              "array([16, 15, 11, 14, 10, 19, 15, 15, 17, 12, 11, 14, 12, 15, 19])"
            ]
          },
          "metadata": {},
          "execution_count": 18
        }
      ]
    },
    {
      "cell_type": "markdown",
      "source": [
        "## Plotting distributions\n",
        "\n",
        "***"
      ],
      "metadata": {
        "id": "jak2P12GR_rk"
      }
    },
    {
      "cell_type": "code",
      "source": [
        "# The lowest integer allowed.\n",
        "low = 1\n",
        "\n",
        "# The highest integer allowed.\n",
        "high = 10\n",
        "\n",
        "# The number of integers to generate.\n",
        "size = 10000"
      ],
      "metadata": {
        "id": "D6TJn86peaUF"
      },
      "execution_count": 50,
      "outputs": []
    },
    {
      "cell_type": "code",
      "source": [
        "# Unique elements of rand_ints with counts.\n",
        "np.unique(rand_ints, return_counts=True)"
      ],
      "metadata": {
        "colab": {
          "base_uri": "https://localhost:8080/"
        },
        "id": "iK40ZL3giaua",
        "outputId": "cf2c546d-820c-46c2-c158-a64cef88e751"
      },
      "execution_count": 51,
      "outputs": [
        {
          "output_type": "execute_result",
          "data": {
            "text/plain": [
              "(array([ 1,  2,  3,  4,  5,  6,  7,  8,  9, 10]),\n",
              " array([ 89, 103, 115, 122,  81,  95, 107,  90, 112,  86]))"
            ]
          },
          "metadata": {},
          "execution_count": 51
        }
      ]
    },
    {
      "cell_type": "code",
      "source": [
        "# The unique elements of the rand_ints with counts.\n",
        "x, counts = np.unique(rand_ints, return_counts=True)\n",
        "\n",
        "# Show the x with counts array.\n",
        "x, counts"
      ],
      "metadata": {
        "colab": {
          "base_uri": "https://localhost:8080/"
        },
        "id": "y7WO2GWNkVm-",
        "outputId": "49ca5ac5-0855-4251-c32a-1ddab1674cf6"
      },
      "execution_count": 52,
      "outputs": [
        {
          "output_type": "execute_result",
          "data": {
            "text/plain": [
              "(array([ 1,  2,  3,  4,  5,  6,  7,  8,  9, 10]),\n",
              " array([ 89, 103, 115, 122,  81,  95, 107,  90, 112,  86]))"
            ]
          },
          "metadata": {},
          "execution_count": 52
        }
      ]
    },
    {
      "cell_type": "code",
      "source": [
        "# Generate a list of random integers.\n",
        "rand_ints = rng.integers(low=low, high=high + 1, size=size)\n",
        "\n",
        "# Show.\n",
        "# rand_ints"
      ],
      "metadata": {
        "id": "GM5eO7N2TTm5"
      },
      "execution_count": 53,
      "outputs": []
    },
    {
      "cell_type": "code",
      "source": [
        "# Create an empty plot.\n",
        "fig, ax = plt.subplots(figsize=(12, 3))\n",
        "\n",
        "# Plot a bar chart.\n",
        "ax.bar = (x, counts)"
      ],
      "metadata": {
        "colab": {
          "base_uri": "https://localhost:8080/",
          "height": 297
        },
        "id": "uwMW1FLNU9_d",
        "outputId": "df19d6a3-6a53-4cf6-9820-c288e73d7847"
      },
      "execution_count": 54,
      "outputs": [
        {
          "output_type": "display_data",
          "data": {
            "text/plain": [
              "<Figure size 1200x300 with 1 Axes>"
            ],
            "image/png": "[encoded data removed]"
          },
          "metadata": {}
        }
      ]
    },
    {
      "cell_type": "markdown",
      "source": [
        "***\n",
        "\n",
        "###End"
      ],
      "metadata": {
        "id": "nIit_1smS_bt"
      }
    }
  ]
}