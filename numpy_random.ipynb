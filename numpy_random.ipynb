{
  "nbformat": 4,
  "nbformat_minor": 0,
  "metadata": {
    "colab": {
      "provenance": [],
      "authorship_tag": "ABX9TyNeYux6cIo6SO+2ZzMAdQPS",
      "include_colab_link": true
    },
    "kernelspec": {
      "name": "python3",
      "display_name": "Python 3"
    },
    "language_info": {
      "name": "python"
    }
  },
  "cells": [
    {
      "cell_type": "markdown",
      "metadata": {
        "id": "view-in-github",
        "colab_type": "text"
      },
      "source": [
        "<a href=\"https://colab.research.google.com/github/AndreaCignoni/FundamentalsOfDataAnalysis/blob/main/numpy_random.ipynb\" target=\"_parent\"><img src=\"https://colab.research.google.com/assets/colab-badge.svg\" alt=\"Open In Colab\"/></a>"
      ]
    },
    {
      "cell_type": "markdown",
      "source": [
        "#Random Numbers in numpy\n",
        "\n",
        "***"
      ],
      "metadata": {
        "id": "zKs_DUaJ9VlS"
      }
    },
    {
      "cell_type": "code",
      "source": [
        "# Numerical arrays, random numbers.\n",
        "\n",
        "import numpy as np\n",
        "\n",
        "# Plots.\n",
        "\n",
        "import matplotlib.pyplot as plt"
      ],
      "metadata": {
        "id": "gESed2rH2T8b"
      },
      "execution_count": null,
      "outputs": []
    },
    {
      "cell_type": "markdown",
      "source": [
        "##Python Standard Library\n",
        "\n",
        "https://docs.python.org/3/library/random.html\n",
        "\n",
        "***"
      ],
      "metadata": {
        "id": "qGMnTjNB_RgF"
      }
    },
    {
      "cell_type": "code",
      "source": [
        "# The random module from the standard library\n",
        "\n",
        "import random"
      ],
      "metadata": {
        "id": "UQidkkhEA8bA"
      },
      "execution_count": null,
      "outputs": []
    },
    {
      "cell_type": "code",
      "source": [
        "# Using autocomplete, we can get a flavour of the module.\n",
        "# Putting a question mark in front of a function name prints\n",
        "# a little help message.\n",
        "?random.randint"
      ],
      "metadata": {
        "id": "Cs2QdcDkA9Sz"
      },
      "execution_count": null,
      "outputs": []
    },
    {
      "cell_type": "code",
      "source": [
        "# Based on the above, we can generate a random integer\n",
        "# between 10 and 20, inclusive.\n",
        "random.randint(10,20)"
      ],
      "metadata": {
        "id": "u2CVePPTAf80",
        "colab": {
          "base_uri": "https://localhost:8080/"
        },
        "outputId": "4e63a73d-69f0-4973-a2fb-5843ac9a0898"
      },
      "execution_count": null,
      "outputs": [
        {
          "output_type": "execute_result",
          "data": {
            "text/plain": [
              "14"
            ]
          },
          "metadata": {},
          "execution_count": 4
        }
      ]
    },
    {
      "cell_type": "code",
      "source": [
        "# Generate a list of 100 integers between 1 and 100.\n",
        "L = [random.randint(1,10) for i in range (100) ]\n",
        "\n",
        "# Show the first 10 items of L.\n",
        "L[:10]"
      ],
      "metadata": {
        "id": "cy-ggZNyEr_2",
        "colab": {
          "base_uri": "https://localhost:8080/"
        },
        "outputId": "63569367-5a53-4d20-9b2e-d76984ea5216"
      },
      "execution_count": null,
      "outputs": [
        {
          "output_type": "execute_result",
          "data": {
            "text/plain": [
              "[10, 4, 4, 1, 4, 10, 4, 2, 1, 4]"
            ]
          },
          "metadata": {},
          "execution_count": 5
        }
      ]
    },
    {
      "cell_type": "code",
      "source": [
        "# List of car makes.\n",
        "makes = ['Toyota', 'Skoda', 'Ford', 'Renault']"
      ],
      "metadata": {
        "id": "DGFL7LeiKGrM"
      },
      "execution_count": null,
      "outputs": []
    },
    {
      "cell_type": "code",
      "source": [
        "# Select one at random\n",
        "random.choice(makes)"
      ],
      "metadata": {
        "id": "jkaAFQqzKHvI",
        "colab": {
          "base_uri": "https://localhost:8080/",
          "height": 36
        },
        "outputId": "54915991-02ca-4f9a-c7e2-c9e69670d74f"
      },
      "execution_count": null,
      "outputs": [
        {
          "output_type": "execute_result",
          "data": {
            "text/plain": [
              "'Renault'"
            ],
            "application/vnd.google.colaboratory.intrinsic+json": {
              "type": "string"
            }
          },
          "metadata": {},
          "execution_count": 7
        }
      ]
    },
    {
      "cell_type": "code",
      "source": [
        "# Select ten random makes (with replecement)\n",
        "random.choices(makes, k=10)"
      ],
      "metadata": {
        "id": "Jk-LinbnKIuL",
        "colab": {
          "base_uri": "https://localhost:8080/"
        },
        "outputId": "6d79914f-bf83-4362-cb28-c4270e935f16"
      },
      "execution_count": null,
      "outputs": [
        {
          "output_type": "execute_result",
          "data": {
            "text/plain": [
              "['Toyota',\n",
              " 'Renault',\n",
              " 'Ford',\n",
              " 'Renault',\n",
              " 'Renault',\n",
              " 'Renault',\n",
              " 'Skoda',\n",
              " 'Ford',\n",
              " 'Toyota',\n",
              " 'Renault']"
            ]
          },
          "metadata": {},
          "execution_count": 8
        }
      ]
    },
    {
      "cell_type": "code",
      "source": [
        "# First eight letters\n",
        "letters = ['A','B','C','D','E','F','G','H']"
      ],
      "metadata": {
        "id": "sD5aW6zmOOUH"
      },
      "execution_count": null,
      "outputs": []
    },
    {
      "cell_type": "code",
      "source": [
        "# Shuffle them.\n",
        "random.shuffle(letters)"
      ],
      "metadata": {
        "id": "GVaUj-uVOquj"
      },
      "execution_count": null,
      "outputs": []
    },
    {
      "cell_type": "code",
      "source": [
        "# Look at letters after shuffle.\n",
        "print(letters)"
      ],
      "metadata": {
        "id": "jY20ZnXvO7QF",
        "colab": {
          "base_uri": "https://localhost:8080/"
        },
        "outputId": "5e9e5708-a75f-4fb6-c5b9-0489b4647143"
      },
      "execution_count": null,
      "outputs": [
        {
          "output_type": "stream",
          "name": "stdout",
          "text": [
            "['B', 'E', 'A', 'H', 'G', 'F', 'C', 'D']\n"
          ]
        }
      ]
    },
    {
      "cell_type": "code",
      "source": [
        "# Random selection without replacement.\n",
        "random.sample(letters, k=3)"
      ],
      "metadata": {
        "id": "jLKyPqRcPjn0",
        "colab": {
          "base_uri": "https://localhost:8080/"
        },
        "outputId": "36e7bd01-56a8-476c-fcb7-4406ffc9f3ca"
      },
      "execution_count": null,
      "outputs": [
        {
          "output_type": "execute_result",
          "data": {
            "text/plain": [
              "['F', 'A', 'C']"
            ]
          },
          "metadata": {},
          "execution_count": 12
        }
      ]
    },
    {
      "cell_type": "code",
      "source": [
        "# Random real (floating-point) numbers. [0.0,1.0)\n",
        "random.random()"
      ],
      "metadata": {
        "id": "Nq5-P5M2Q-4j",
        "colab": {
          "base_uri": "https://localhost:8080/"
        },
        "outputId": "a9feacc2-a3db-4c57-c7e7-8673453ed715"
      },
      "execution_count": null,
      "outputs": [
        {
          "output_type": "execute_result",
          "data": {
            "text/plain": [
              "0.37883285421743074"
            ]
          },
          "metadata": {},
          "execution_count": 13
        }
      ]
    },
    {
      "cell_type": "code",
      "source": [
        "# Pick a random floating point number between 0.0 and 100.0 [0.0, 100.0]\n",
        "random.uniform(0.0,100.0)"
      ],
      "metadata": {
        "id": "4SUNAPLcR1wN",
        "colab": {
          "base_uri": "https://localhost:8080/"
        },
        "outputId": "405e3ce3-112f-4077-93f4-e8f2fcd7cd4a"
      },
      "execution_count": null,
      "outputs": [
        {
          "output_type": "execute_result",
          "data": {
            "text/plain": [
              "2.445614341487967"
            ]
          },
          "metadata": {},
          "execution_count": 14
        }
      ]
    },
    {
      "cell_type": "markdown",
      "source": [
        "## numpy\n",
        "\n",
        "[numpy: API reference Random sampling](https://numpy.org/doc/stable/reference/random/index.html)\n",
        "\n",
        "https://numpy.org/doc/stable/reference/random/index.html\n",
        "\n",
        "\n",
        "***"
      ],
      "metadata": {
        "id": "AHaMuzFe5KgW"
      }
    },
    {
      "cell_type": "code",
      "source": [
        "# Random number generator (RNG) for generating random numbers.\n",
        "rng = np.random.default_rng()"
      ],
      "metadata": {
        "id": "f-gM95Dd6QNy"
      },
      "execution_count": null,
      "outputs": []
    },
    {
      "cell_type": "code",
      "source": [
        "# Generate random floating point numbers in the interval 0.0 (inclusive) to 1.0 (exclusive).\n",
        "rng.random()"
      ],
      "metadata": {
        "colab": {
          "base_uri": "https://localhost:8080/"
        },
        "id": "pXTeX7Hl3KJl",
        "outputId": "312ea7ab-8ec6-402f-ed6f-a4ad9d5e8902"
      },
      "execution_count": null,
      "outputs": [
        {
          "output_type": "execute_result",
          "data": {
            "text/plain": [
              "0.8757943876581326"
            ]
          },
          "metadata": {},
          "execution_count": 4
        }
      ]
    },
    {
      "cell_type": "markdown",
      "source": [
        "The mean is 0.0 and standard deviation is 1.0.\n",
        "\n",
        "The number generated should be, on average, centred on 0.0.\n",
        "\n",
        "More than 99% of the numbers generated should be in the interval (-3.0, 3.0)"
      ],
      "metadata": {
        "id": "Jo1s-65QHUdg"
      }
    },
    {
      "cell_type": "code",
      "source": [
        "# Generate numbers on a standard Normal distribution.\n",
        "rng.standard_normal(10)"
      ],
      "metadata": {
        "colab": {
          "base_uri": "https://localhost:8080/"
        },
        "id": "bUufDcjc8P0p",
        "outputId": "c7240dbc-fc42-49ec-abf9-84bd8e6fab80"
      },
      "execution_count": null,
      "outputs": [
        {
          "output_type": "execute_result",
          "data": {
            "text/plain": [
              "array([-1.97341084, -0.26599959,  0.84397923,  0.88504144,  1.80126819,\n",
              "       -1.54117802,  0.57646772,  0.33716731, -0.50196672,  0.31649633])"
            ]
          },
          "metadata": {},
          "execution_count": 12
        }
      ]
    },
    {
      "cell_type": "code",
      "source": [
        "# Generate 15 integers between 10 (included) and 20 (excluded).\n",
        "rng.integers(low=10, high=20, size=15)"
      ],
      "metadata": {
        "colab": {
          "base_uri": "https://localhost:8080/"
        },
        "id": "rZEYUkvd88hn",
        "outputId": "4d07317f-d854-4258-8b7e-1730412156ed"
      },
      "execution_count": null,
      "outputs": [
        {
          "output_type": "execute_result",
          "data": {
            "text/plain": [
              "array([10, 12, 19, 15, 10, 14, 15, 17, 11, 11, 12, 18, 18, 12, 13])"
            ]
          },
          "metadata": {},
          "execution_count": 24
        }
      ]
    },
    {
      "cell_type": "markdown",
      "source": [
        "## Plotting distributions\n",
        "\n",
        "***"
      ],
      "metadata": {
        "id": "jak2P12GR_rk"
      }
    },
    {
      "cell_type": "code",
      "source": [
        "# The lowest integer allowed.\n",
        "low = 1\n",
        "\n",
        "# The highest integer allowed.\n",
        "high = 10\n",
        "\n",
        "# The number of integers to generate.\n",
        "size = 10000"
      ],
      "metadata": {
        "id": "D6TJn86peaUF"
      },
      "execution_count": null,
      "outputs": []
    },
    {
      "cell_type": "code",
      "source": [
        "from numpy.random.mtrand import random_integers\n",
        "# Unique elements of random integers with counts.\n",
        "np.unique(random_integers, return_counts=True)"
      ],
      "metadata": {
        "colab": {
          "base_uri": "https://localhost:8080/"
        },
        "id": "9cYIRNCfrCt3",
        "outputId": "d74fe960-d05e-41d4-d1ba-f8c9d5e28d63"
      },
      "execution_count": null,
      "outputs": [
        {
          "output_type": "execute_result",
          "data": {
            "text/plain": [
              "(array([<built-in method random_integers of numpy.random.mtrand.RandomState object at 0x797d09ba3640>],\n",
              "       dtype=object),\n",
              " array([1]))"
            ]
          },
          "metadata": {},
          "execution_count": 8
        }
      ]
    },
    {
      "cell_type": "code",
      "source": [
        "# The unique elements of the rand_ints with counts.\n",
        "x, counts = np.unique(random_integers, return_counts=True)\n",
        "\n",
        "# Show the x with counts array.\n",
        "x, counts"
      ],
      "metadata": {
        "colab": {
          "base_uri": "https://localhost:8080/"
        },
        "id": "y7WO2GWNkVm-",
        "outputId": "149dc080-d568-4e99-c439-b2b4a41832cb"
      },
      "execution_count": null,
      "outputs": [
        {
          "output_type": "execute_result",
          "data": {
            "text/plain": [
              "(array([<built-in method random_integers of numpy.random.mtrand.RandomState object at 0x797d09ba3640>],\n",
              "       dtype=object),\n",
              " array([1]))"
            ]
          },
          "metadata": {},
          "execution_count": 10
        }
      ]
    },
    {
      "cell_type": "code",
      "source": [
        "# Generate a list of random integers.\n",
        "random_integers = rng.integers(low=low, high=high + 1, size=size)\n",
        "\n",
        "# Show.\n",
        "random_integers"
      ],
      "metadata": {
        "id": "GM5eO7N2TTm5",
        "colab": {
          "base_uri": "https://localhost:8080/"
        },
        "outputId": "dd2524c6-5f4a-4c48-9a92-c6234d4b6efc"
      },
      "execution_count": null,
      "outputs": [
        {
          "output_type": "execute_result",
          "data": {
            "text/plain": [
              "array([ 4,  4,  9, ...,  2,  9, 10])"
            ]
          },
          "metadata": {},
          "execution_count": 12
        }
      ]
    },
    {
      "cell_type": "code",
      "source": [
        "# Create an empty plot.\n",
        "fig, ax = plt.subplots(figsize=(12, 3))\n",
        "\n",
        "# Plot a bar chart.\n",
        "ax.bar = (random_integers, counts)"
      ],
      "metadata": {
        "colab": {
          "base_uri": "https://localhost:8080/",
          "height": 297
        },
        "id": "uwMW1FLNU9_d",
        "outputId": "d02afaa1-252c-4b4a-f4ab-7ea041357e3f"
      },
      "execution_count": null,
      "outputs": [
        {
          "output_type": "display_data",
          "data": {
            "text/plain": [
              "<Figure size 1200x300 with 1 Axes>"
            ],
            "image/png": "[encoded data removed]"
          },
          "metadata": {}
        }
      ]
    },
    {
      "cell_type": "markdown",
      "source": [
        "## Plotting Histograms\n",
        "\n",
        "***"
      ],
      "metadata": {
        "id": "dYb6b_CI3Z7r"
      }
    },
    {
      "cell_type": "code",
      "source": [
        "# The number of floating point numbers to generate.\n",
        "size = 10000"
      ],
      "metadata": {
        "id": "RJBuIHeo3zQO"
      },
      "execution_count": null,
      "outputs": []
    },
    {
      "cell_type": "code",
      "source": [
        "# Generate random floating numbers in the interval of 0.0 (inclusive) and 1.0 (exclusive)\n",
        "rand_floats = rng.random(size)\n",
        "\n",
        "# Show rand_floats.\n",
        "# rand_floats"
      ],
      "metadata": {
        "id": "4zcsk7yQ396e"
      },
      "execution_count": null,
      "outputs": []
    },
    {
      "cell_type": "code",
      "source": [
        "# The unique elements of random_floats with counts.\n",
        "x, counts = np.unique(rand_floats, return_counts=True)\n",
        "\n",
        "# Show the x and counts arrays.\n",
        "x, counts"
      ],
      "metadata": {
        "colab": {
          "base_uri": "https://localhost:8080/"
        },
        "id": "2iruoaqD3-uI",
        "outputId": "e21dbed1-107b-46ca-ddaf-9e56c35e3e3b"
      },
      "execution_count": null,
      "outputs": [
        {
          "output_type": "execute_result",
          "data": {
            "text/plain": [
              "(array([6.59249104e-07, 2.00372151e-04, 2.49265772e-04, ...,\n",
              "        9.99781927e-01, 9.99924645e-01, 9.99971794e-01]),\n",
              " array([1, 1, 1, ..., 1, 1, 1]))"
            ]
          },
          "metadata": {},
          "execution_count": 15
        }
      ]
    },
    {
      "cell_type": "code",
      "source": [
        "# Create an empty plot.\n",
        "fig, ax = plt.subplots(figsize=(12, 3))\n",
        "\n",
        "# Plot a histogram.\n",
        "ax.hist(rand_floats, bins=100)"
      ],
      "metadata": {
        "colab": {
          "base_uri": "https://localhost:8080/",
          "height": 497
        },
        "id": "-gC54QsWjGVM",
        "outputId": "2e8c7560-3868-40b2-cf8a-066e29e9a888"
      },
      "execution_count": 18,
      "outputs": [
        {
          "output_type": "error",
          "ename": "NameError",
          "evalue": "ignored",
          "traceback": [
            "\u001b[0;31m---------------------------------------------------------------------------\u001b[0m",
            "\u001b[0;31mNameError\u001b[0m                                 Traceback (most recent call last)",
            "\u001b[0;32m<ipython-input-18-3c0a78b09984>\u001b[0m in \u001b[0;36m<cell line: 5>\u001b[0;34m()\u001b[0m\n\u001b[1;32m      3\u001b[0m \u001b[0;34m\u001b[0m\u001b[0m\n\u001b[1;32m      4\u001b[0m \u001b[0;31m# Plot a histogram.\u001b[0m\u001b[0;34m\u001b[0m\u001b[0;34m\u001b[0m\u001b[0m\n\u001b[0;32m----> 5\u001b[0;31m \u001b[0max\u001b[0m\u001b[0;34m.\u001b[0m\u001b[0mhist\u001b[0m\u001b[0;34m(\u001b[0m\u001b[0mrand_floats\u001b[0m\u001b[0;34m,\u001b[0m \u001b[0mbins\u001b[0m\u001b[0;34m=\u001b[0m\u001b[0;36m100\u001b[0m\u001b[0;34m)\u001b[0m\u001b[0;34m\u001b[0m\u001b[0;34m\u001b[0m\u001b[0m\n\u001b[0m",
            "\u001b[0;31mNameError\u001b[0m: name 'rand_floats' is not defined"
          ]
        },
        {
          "output_type": "display_data",
          "data": {
            "text/plain": [
              "<Figure size 1200x300 with 1 Axes>"
            ],
            "image/png": "[encoded data removed]"
          },
          "metadata": {}
        }
      ]
    },
    {
      "cell_type": "markdown",
      "source": [
        "##Normal Looking Data\n",
        "\n",
        "***"
      ],
      "metadata": {
        "id": "IxX90baMvhJM"
      }
    },
    {
      "cell_type": "code",
      "source": [
        "#Generate numbers on a standard Normal distribution.\n",
        "rand_normal = rng.standard_normal(100000)"
      ],
      "metadata": {
        "id": "74jyt8awv1h2"
      },
      "execution_count": 19,
      "outputs": []
    },
    {
      "cell_type": "code",
      "source": [
        "# Create an empty plot.\n",
        "fig, ax = plt.subplots(figsize=(12, 3))\n",
        "\n",
        "# Plot a histgram.\n",
        "ax.hist(rand_normal, bins=100, density=True);"
      ],
      "metadata": {
        "colab": {
          "base_uri": "https://localhost:8080/",
          "height": 291
        },
        "id": "0mHRQy7kv4vH",
        "outputId": "830fc62a-425b-4524-afe8-7ea4580edbfb"
      },
      "execution_count": 22,
      "outputs": [
        {
          "output_type": "display_data",
          "data": {
            "text/plain": [
              "<Figure size 1200x300 with 1 Axes>"
            ],
            "image/png": "[encoded data removed]"
          },
          "metadata": {}
        }
      ]
    },
    {
      "cell_type": "markdown",
      "source": [
        "***\n",
        "\n",
        "#End"
      ],
      "metadata": {
        "id": "TQHrzvfEtbko"
      }
    }
  ]
}