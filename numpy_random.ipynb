{
  "nbformat": 4,
  "nbformat_minor": 0,
  "metadata": {
    "colab": {
      "provenance": [],
      "authorship_tag": "ABX9TyOdkXQITR5cC3DwMl3EPPjz",
      "include_colab_link": true
    },
    "kernelspec": {
      "name": "python3",
      "display_name": "Python 3"
    },
    "language_info": {
      "name": "python"
    }
  },
  "cells": [
    {
      "cell_type": "markdown",
      "metadata": {
        "id": "view-in-github",
        "colab_type": "text"
      },
      "source": [
        "<a href=\"https://colab.research.google.com/github/AndreaCignoni/FundamentalsOfDataAnalysis/blob/main/numpy_random.ipynb\" target=\"_parent\"><img src=\"https://colab.research.google.com/assets/colab-badge.svg\" alt=\"Open In Colab\"/></a>"
      ]
    },
    {
      "cell_type": "markdown",
      "source": [
        "#Random Numbers in numpy\n",
        "\n",
        "***"
      ],
      "metadata": {
        "id": "zKs_DUaJ9VlS"
      }
    },
    {
      "cell_type": "markdown",
      "source": [
        "##Python Standard Library\n",
        "\n",
        "https://docs.python.org/3/library/random.html\n",
        "\n",
        "***"
      ],
      "metadata": {
        "id": "qGMnTjNB_RgF"
      }
    },
    {
      "cell_type": "code",
      "source": [
        "# The random module from the standard library\n",
        "\n",
        "import random"
      ],
      "metadata": {
        "id": "UQidkkhEA8bA"
      },
      "execution_count": 1,
      "outputs": []
    },
    {
      "cell_type": "code",
      "source": [
        "# Using autocomplete, we can get a flavour of the module.\n",
        "# Putting a question mark in front of a function name prints\n",
        "# a little help message.\n",
        "?random.randint"
      ],
      "metadata": {
        "id": "Cs2QdcDkA9Sz"
      },
      "execution_count": 2,
      "outputs": []
    },
    {
      "cell_type": "code",
      "source": [
        "# Based on the above, we can generate a random integer\n",
        "# between 10 and 20, inclusive.\n",
        "random.randint(10,20)"
      ],
      "metadata": {
        "id": "u2CVePPTAf80"
      },
      "execution_count": null,
      "outputs": []
    },
    {
      "cell_type": "code",
      "source": [
        "# Generate a list of 100 integers between 1 and 100.\n",
        "L = [random.randint(1,10) for i in range (100) ]\n",
        "\n",
        "# Show the first 10 items of L.\n",
        "L[:10]"
      ],
      "metadata": {
        "id": "cy-ggZNyEr_2"
      },
      "execution_count": null,
      "outputs": []
    },
    {
      "cell_type": "code",
      "source": [
        "# List of car makes.\n",
        "makes = ['Toyota', 'Skoda', 'Ford', 'Renault']"
      ],
      "metadata": {
        "id": "DGFL7LeiKGrM"
      },
      "execution_count": 5,
      "outputs": []
    },
    {
      "cell_type": "code",
      "source": [
        "# Select one at random\n",
        "random.choice(makes)"
      ],
      "metadata": {
        "id": "jkaAFQqzKHvI"
      },
      "execution_count": null,
      "outputs": []
    },
    {
      "cell_type": "code",
      "source": [
        "# Select ten random makes (with replecement)\n",
        "random.choices(makes, k=10)"
      ],
      "metadata": {
        "id": "Jk-LinbnKIuL"
      },
      "execution_count": null,
      "outputs": []
    },
    {
      "cell_type": "code",
      "source": [
        "# First eight letters\n",
        "letters = ['A','B','C','D','E','F','G','H']"
      ],
      "metadata": {
        "id": "sD5aW6zmOOUH"
      },
      "execution_count": 8,
      "outputs": []
    },
    {
      "cell_type": "code",
      "source": [
        "# Shuffle them.\n",
        "random.shuffle(letters)"
      ],
      "metadata": {
        "id": "GVaUj-uVOquj"
      },
      "execution_count": 9,
      "outputs": []
    },
    {
      "cell_type": "code",
      "source": [
        "# Look at letters after shuffle.\n",
        "print(letters)"
      ],
      "metadata": {
        "id": "jY20ZnXvO7QF"
      },
      "execution_count": null,
      "outputs": []
    },
    {
      "cell_type": "code",
      "source": [
        "# Random selection without replacement.\n",
        "random.sample(letters, k=3)"
      ],
      "metadata": {
        "id": "jLKyPqRcPjn0"
      },
      "execution_count": null,
      "outputs": []
    },
    {
      "cell_type": "code",
      "source": [
        "# Random real (floating-point) numbers. [0.0,1.0)\n",
        "random.random()"
      ],
      "metadata": {
        "id": "Nq5-P5M2Q-4j"
      },
      "execution_count": null,
      "outputs": []
    },
    {
      "cell_type": "code",
      "source": [
        "# Pick a random floating point number between 0.0 and 100.0 [0.0, 100.0]\n",
        "random.uniform(0.0,100.0)"
      ],
      "metadata": {
        "id": "4SUNAPLcR1wN"
      },
      "execution_count": null,
      "outputs": []
    },
    {
      "cell_type": "markdown",
      "source": [
        "***\n",
        "\n",
        "###End"
      ],
      "metadata": {
        "id": "nIit_1smS_bt"
      }
    }
  ]
}