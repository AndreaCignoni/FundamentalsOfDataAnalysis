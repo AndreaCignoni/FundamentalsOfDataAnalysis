{
 "cells": [
  {
   "cell_type": "markdown",
   "metadata": {},
   "source": [
    "# Fundamentals of Data Analysis: Project\n",
    "\n",
    "**Andrea Cignoni**\n",
    "\n",
    "***"
   ]
  },
  {
   "cell_type": "markdown",
   "metadata": {},
   "source": [
    "<div align=\"center\"> \n",
    "\n",
    "## **FISHER'S IRIS DATA SET ANALYSIS**\n",
    "\n",
    "</div>\n",
    "\n",
    "<div align=\"justify\">\n",
    "\n",
    "In 1936, the renowned British statistician and geneticist Sir Ronald Aylmer Fisher (17 February 1890 – 29 July 1962) made a significant contribution to the field of statistics and data analysis. He published a seminal report titled \"The Use of Multiple Measurements in Taxonomic Problems\" in the journal Annals of Eugenics. In this groundbreaking paper, he introduced the **Iris flower data set** as an illustrative example of discriminant analysis and a method for predicting qualitative values.\n",
    "\n",
    "Fisher's objective was to distinguish between various species of iris flowers by leveraging four crucial measurement variables: *petal length*, *petal width*, *sepal length*, and *sepal width*. The Iris dataset, which forms the basis of this analysis, comprises 150 instances, with 50 plants each representing three distinct classes of Iris plants: *Iris versicolor*, *Iris virginica*, and *Iris setosa*.\n",
    "\n",
    "To visualise his findings, Sir Ronald Fisher created a discriminant function that effectively differentiated between these Iris species. The picture below vividly illustrates the remarkable similarity among the three Iris species, making it particularly intriguing to explore how statistical analysis can reveal their subtle differences.\n",
    "\n",
    "<div align=\"center\"> \n",
    "\n",
    "![Iris Dataset Visual Representation](https://github.com/AndreaCignoni/FundamentalsOfDataAnalysis/blob/b341d93b6c048d2f74ca618516cf5a3b5b558514/img/Iris%20Dataset%20Visual%20Representation.png)\n",
    "\n",
    "</div> \n",
    "\n",
    "The core objective of my research is to uncover a classification framework that, based in the measurements given, allow a distinction among the three species and make even possible predictions over individual feature attribution. \n",
    "\n",
    "To start the present work, my first step is to present  a data overview, displaying the most prominent features within it, and providing a comprehensive overview of the measurements. Subsequently, I delve into the visual representation of the species' similarities and distinctions, reconstructing their images with the use of graphs.\n",
    "\n",
    "Histograms are, hence, employed to portray the primary features of these species, while scatterplots visually emphasise how each individual flower exhibit unique attributes. Finally, pair plots are implemented to identify the discriminant factor capable of delineating the characteristic measurements of each species: this model serves as a tool for predicting each flower's class with two or even one attribute.\n",
    "\n",
    "My work aims to replicate the demonstrations presented in a lecture, accessible on YouTube via the following link: [YouTube](https://www.youtube.com/watch?v=FLuqwQgSBDw).\n",
    "\n",
    "In essence, this analysis delves into the remarkable work of Sir Ronald Fisher with the ambition of stressing how this collection of measurements represents the foundation of machine learning techniques such as classification and differentiation.\n",
    "\n",
    "</div>"
   ]
  },
  {
   "cell_type": "code",
   "execution_count": null,
   "metadata": {},
   "outputs": [],
   "source": []
  },
  {
   "cell_type": "markdown",
   "metadata": {},
   "source": [
    "***\n",
    "\n",
    "## End"
   ]
  }
 ],
 "metadata": {
  "kernelspec": {
   "display_name": "base",
   "language": "python",
   "name": "python3"
  },
  "language_info": {
   "codemirror_mode": {
    "name": "ipython",
    "version": 3
   },
   "file_extension": ".py",
   "mimetype": "text/x-python",
   "name": "python",
   "nbconvert_exporter": "python",
   "pygments_lexer": "ipython3",
   "version": "3.10.9"
  },
  "orig_nbformat": 4
 },
 "nbformat": 4,
 "nbformat_minor": 2
}
