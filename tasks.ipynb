{
 "cells": [
  {
   "cell_type": "markdown",
   "metadata": {},
   "source": [
    "# Fundamentals of Data Analysis Tasks\n",
    "\n",
    "**Andrea Cignoni**\n",
    "\n",
    "***"
   ]
  },
  {
   "cell_type": "markdown",
   "metadata": {},
   "source": [
    "\n",
    "# Task 1\n",
    "\n",
    "> <div align=\"justify\"> The *Collatz conjecture* is a famous unsolved problem in mathematics. The problem is to prove that if you start with any positive integer *x* and repeatedly apply the function $f (x)$ below, you always get stuck in the repeating sequence 1, 4, 2, 1, 4, 2, . . .\n",
    "\n",
    "$ f(x) =\n",
    "\\begin{cases}\n",
    "x/2 & \\text{if } x \\text{ is even} \\\\\n",
    "3x + 1 & \\text{if } x \\text{ is odd}\n",
    "\\end{cases}\n",
    "$\n",
    "\n",
    "For example, starting with the value 10, which is an even number, we divide it by 2 to get 5. Then 5 is an odd number so, we multiply by 3 and add 1 to get 16. Then we repeatedly divide by 2 to get 8, 4, 2, 1. Once we are at 1,we go back to 4 and get stuck in the repeating sequence 4, 2, 1 as we suspected.\n",
    "Your task is to verify, using Python, that the conjecture is true for the first 10,000 positive integers.</div>"
   ]
  },
  {
   "cell_type": "code",
   "execution_count": 32,
   "metadata": {},
   "outputs": [],
   "source": [
    "# This function defines the calculation applied to the input number 'x'.\n",
    "def f(x):\n",
    "    if x % 2 == 0: #\n",
    "        return x // 2 # If it is even it is devided by two.\n",
    "    else:\n",
    "        return (3 * x) + 1 # If it is odd it then multiplied by 3 and then 1 is added."
   ]
  },
  {
   "cell_type": "markdown",
   "metadata": {},
   "source": [
    "<div align=\"justify\">  \n",
    "\n",
    "In Python, the letter **f** is commonly used as a prefix when defining functions that perform some specific operations or calculations. It is not a mandatory convention, but it can be used to indicate that the function is meant to execute a certain formula or mathematical operation. My guide for defining variables is [Real Python](https://realpython.com/defining-your-own-python-function/) .\n",
    "\n",
    "The **if** statement evaluates whether the remainder (*modulus*) of the division operation **x % 2** is equal (==) to 0. If this condition holds true, the code within the corresponding block is executed, and it involves returning the result of **x // 2**. The use of the **//** operator signifies floor division, ensuring that the outcome is an integer by discarding any fractional part. It's important to note that the **%** (**Modulo Operator**) yields the remainder of a division, while the **// Floor Division Operator** provides the rounded-down quotient after division. These assumptions have been deducted from [Pythontutorial.net](https://www.pythontutorial.net/advanced-python/python-floor-division/).\n",
    "\n",
    "</div>"
   ]
  },
  {
   "cell_type": "code",
   "execution_count": 33,
   "metadata": {},
   "outputs": [],
   "source": [
    "# This function formats the sequence of integers generated with the 'x' function.\n",
    "def collatz (x):\n",
    "    while x != 1: \n",
    "        print(x, end=', ')\n",
    "        x = f(x)\n",
    "    print (x)"
   ]
  },
  {
   "cell_type": "markdown",
   "metadata": {},
   "source": [
    "<div align=\"justify\">\n",
    "\n",
    "The preceding **while** loop persists as long as the variable **x** remains distinct from 1. This determination relies on the **!= operator**, which denotes *\"not equal to*.\" Subsequently, the **print(x, end=', ')** statement displays the current value of **x** without transitioning to a new line, appending a comma and a space after each displayed value.\n",
    "\n",
    "</div>"
   ]
  },
  {
   "cell_type": "code",
   "execution_count": 34,
   "metadata": {},
   "outputs": [],
   "source": [
    "# This function tests Collatz Conjecture for the first 'limit' positive integers\n",
    "def prove_collatz_conjecture(limit): \n",
    "    for x in range(1, limit+1): # The +1 is used because the range function generates values up to, but not including, the upper limit.\n",
    "        print(\"Testing Collatz Conjecture for x =\", x)\n",
    "        collatz(x)"
   ]
  },
  {
   "cell_type": "markdown",
   "metadata": {},
   "source": [
    "<div align=\"justify\">\n",
    "\n",
    "To prove the validity of the **Collatz Function** for the initial 10,000 positive integers, I've declared a new variable called **prove_collatz_conjecture**, which takes an argument labeled **limit**. This parameter serves as a variable representing the upper boundary of the integers to be assessed (10,000). The subsequent **for loop** iterates over a series of integers, starting from 1 and extending up to the specified *limit* using the **range()** function. This approach ensures that the string within the **print statement** is repeated together with the integer to be tested with the *Collatz function* for the amount of times determined by the initial point (1) up and the *limit* provided.\n",
    "\n",
    "</div>"
   ]
  },
  {
   "cell_type": "code",
   "execution_count": null,
   "metadata": {},
   "outputs": [],
   "source": [
    "# Test the Collatz Conjecture for the first 10,000 positive integers\n",
    "prove_collatz_conjecture(10000)"
   ]
  },
  {
   "cell_type": "markdown",
   "metadata": {},
   "source": [
    "***"
   ]
  },
  {
   "cell_type": "markdown",
   "metadata": {},
   "source": [
    "<div align=\"justify\">\n",
    "\n",
    "# Task 2\n",
    "\n",
    "> Give an overview of the famous **Penguins data set**, explaining the types of variables it contains. Suggest the types of variables that should be used to model them in Python, explaining your rationale.\n",
    "\n",
    "</div>"
   ]
  },
  {
   "cell_type": "markdown",
   "metadata": {},
   "source": [
    "<div align=\"center\">\n",
    "\n",
    "# **PENGUINS DATA SET**\n",
    "</div>"
   ]
  },
  {
   "cell_type": "markdown",
   "metadata": {},
   "source": [
    "<div align=\"justify\">\n",
    "The **Palmer penguins dataset** is a collection of data about penguins in the Palmer Archipelago, Antarctica. These data were collected from 2007 - 2009 by Dr. Kristen Gorman with the Palmer Station Long Term Ecological Research Program, part of the US Long Term Ecological Research Network and were collected on 344 penguins living on three islands (Torgersen, Biscoe, and Dream).\n",
    "\n",
    "The parameters considered are the followings:   \n",
    "\n",
    "\n",
    "+ Island name (Dream, Torgersen, or Biscoe);\n",
    "- Species name (Adelie, Chinstrap, or Gentoo);\n",
    "* Billl length (mm);\n",
    "+ Bill depth (mm);\n",
    "- Flipper length (mm);\n",
    "* Body mass (g);\n",
    "- Sex.\n",
    "</div>\n"
   ]
  },
  {
   "cell_type": "markdown",
   "metadata": {},
   "source": [
    "<div align=\"center\">\n",
    "\n",
    "![Screenshot](Penguins.png) ![Screenshot](Penguins1.png)\n",
    "</div>"
   ]
  },
  {
   "cell_type": "markdown",
   "metadata": {},
   "source": [
    "<div align=\"justify\">\n",
    "\n",
    "**LOADING THE FILE AND LIBRARIES IMPORTED**\n",
    "\n",
    "The famous Palmer penguins dataset is downloaded from [mwaskom/seaborn-data Github](https://github.com/mwaskom/). Since the information appears readable and structured just as the standard *CSV tabular disposition* (a comma separates individual items and each record is on a new line), I have proceeded to open it as such in my Python repository.\n",
    "\n",
    "Before proceeding to load the data in a data frame, I have imported the necessary libraries to analyse all the variable represented in the file: **Pandas**; **Matplotlib**; **Numpy**; **Seaborn**.\n",
    "\n",
    "- **Pandas**\n",
    "\n",
    "*Pandas* is an open source Python package that is used for data science/data analysis and machine learning tasks. The common operations performed with *Pandas* are also: data cleansing, data fill, data normalisation, merges and joins, data visualisation, statistical analysis, data inspection, loading and saving data and much more. Here, I rely on *Pandas* for indexing the data frame, for manipulating it and extracting the sorted information from specified columns and rows. My main source for its usage is [Pandas Official documentation](pandas.pydata.org).\n",
    "\n",
    "- **Matplotlib**\n",
    "\n",
    "**Matplotlib** is a Python library used to create 2D graphs and plots through scripts. The *pyplot module* is especially useful when it comes to control line styles, font properties, formatting axes etc. It supports a very wide variety of graphs and plots namely - histogram, bar charts, power spectra, error charts etc.\n",
    "\n",
    "- **NumPy**\n",
    "\n",
    "*Matplotlib* is used along with *NumPy* to provide an environment with an effective and fast numeric computing. *NumPy* furnishes a multidimensional array object and various derived objects (such as masked arrays and matrices).\n",
    "\n",
    "- **Seaborn**\n",
    "\n",
    "Lastly, in order to clearly display a graphic overview of the whole dataset through pair plots, I have imported *Seaborn*. This library is built on top of the Matplotlib data visualisation library and can perform the exploratory analysis that fits best to show the result of my searches.\n",
    "\n",
    "\n",
    "</div>"
   ]
  },
  {
   "cell_type": "code",
   "execution_count": 18,
   "metadata": {},
   "outputs": [],
   "source": [
    "# Inporting all necessary libraries for data analisys and representation.\n",
    "import pandas as pd\n",
    "import numpy as np\n",
    "import matplotlib.pyplot as plt\n",
    "import seaborn as sns\n",
    "\n",
    "# Extracting penguin dataset's 7 variables for data representation.\n",
    "# File downloaded from (https://github.com/mwaskom/seaborn-data/blob/master/penguins.csv).\n",
    "\n",
    "data = pd.read_csv('penguins.csv')"
   ]
  },
  {
   "cell_type": "markdown",
   "metadata": {},
   "source": [
    "<div align=\"justify\">\n",
    "\n",
    "**DATA DESCRIPTION**\n",
    "\n",
    "In order to give a visual overview of the data contained in the dataset, I have utilised a number of functions provided by Pandas and my point of reference is [realpython.com](https://realpython.com/pandas-dataframe/). As already pointed out, the observations of the penguins are classified through 7 classes of parameters.\n",
    "</div>"
   ]
  },
  {
   "cell_type": "code",
   "execution_count": null,
   "metadata": {},
   "outputs": [],
   "source": [
    "# Printing first and last five rows of the dataset.\n",
    "print(\"\\n\",\"Below are shown the first and the last five rows of the dataset\")\n",
    "\n",
    "print(data)"
   ]
  },
  {
   "cell_type": "code",
   "execution_count": null,
   "metadata": {},
   "outputs": [],
   "source": [
    "# Check the DataFrame structure.\n",
    "print(\"\\n\",\"The following is the summary of the dataframe, including information about the column names and their corresponding data types:\",\"\\n\")\n",
    "\n",
    "print(data.info())"
   ]
  },
  {
   "cell_type": "markdown",
   "metadata": {},
   "source": [
    "<div align=\"justify\">\n",
    "\n",
    "As shown by the above overview, the Palmer Penguin dataset includes two types of data: *strings* for the **species**, **islands** and **sex** indices and *floats64* for the **bill length**, **bill depth**, **flipper length** and **body mass**, also identifiable as 3 categorical variables and 4 numerical variables.\n",
    "\n",
    "</div>"
   ]
  },
  {
   "cell_type": "markdown",
   "metadata": {},
   "source": [
    "<div align=\"justify\">\n",
    "\n",
    "**INFO ON EACH SINGULAR VARIABLE**\n",
    "\n",
    "I am using the following Pandas functions to give a detailed description of each individual variables. My point of reference for the following data manipulation example is [SparkByExamples.com](https://sparkbyexamples.com/pandas/get-pandas-dataframe-shape/).\n",
    "\n",
    "</div>"
   ]
  },
  {
   "cell_type": "code",
   "execution_count": null,
   "metadata": {},
   "outputs": [],
   "source": [
    "# Number of observation taken for each species.\n",
    "print(\"\\n\",\"Number of samples for each species:\",\"\\n\")\n",
    "\n",
    "# Examining the species variable with Pandas value_counts function.\n",
    "print(data['species'].value_counts())"
   ]
  },
  {
   "cell_type": "code",
   "execution_count": null,
   "metadata": {},
   "outputs": [],
   "source": [
    "# Describing data printed in the output.\n",
    "print(\"\\n\",\"Levels of the variable island:\",\"\\n\")\n",
    "\n",
    "# using the Pandas unique()function to show the different islands where the penguins observations were taken.\n",
    "island_levels = data['island'].unique()\n",
    "\n",
    "# Print the levels of \"island\".\n",
    "print(island_levels)"
   ]
  },
  {
   "cell_type": "code",
   "execution_count": null,
   "metadata": {},
   "outputs": [],
   "source": [
    "# Describing data printed in the output.\n",
    "print(\"\\n\",\"Population of penguins species living on each island:\",\"\\n\")\n",
    "\n",
    "# Using Pandas groupby function to show how the penguin population is spread on the three islands where the observation were taken.\n",
    "species_counts = data.groupby(['island', 'species']).size().unstack() # Using .size() function to count the number of occurrences in the grouped variables through the groupby() function.\n",
    "#The unstack() function is used to pivot the two parameters, \"sex\" and \"island\".\n",
    "\n",
    "# Showing species living on each island.\n",
    "print(species_counts)\n",
    "\n",
    "# Describing data printed in the output.\n",
    "print(\"\\n\",\"Gender distribution of the whole penguins population observed:\",\"\\n\")\n",
    "\n",
    "# Count the number of penguins in each gender through the \"value_counts\" Pandas function.\n",
    "gender_counts = data['sex'].value_counts()\n",
    "\n",
    "# Showing the different sex counts.\n",
    "print(gender_counts)\n",
    "\n",
    "# Describing data printed in the output.\n",
    "print(\"\\n\",\"Gender distribution for each species on each island:\",\"\\n\")\n",
    "\n",
    "# Group the data by species and gender, and count the number of occurrences through the size() function. \n",
    "gender_distribution = data.groupby(['species', 'sex']).size().reset_index(name='count') # Using the reset_index() function to reset and introduce a new column containing the current index values.\n",
    "\n",
    "# Creating a pivot table to get gender distribution as columns.\n",
    "gender_distribution = gender_distribution.pivot(index='species', columns='sex', values='count')\n",
    "\n",
    "# Display the gender distribution by species.\n",
    "print(gender_distribution)"
   ]
  },
  {
   "cell_type": "markdown",
   "metadata": {},
   "source": [
    "<div align=\"justify\">\n",
    "\n",
    "From the above reports it is clear that the *Adelie* species is present on all the three islands taken into consideration, while the *Chinstrap* and *Gentoo* species are respectively hosted on the *Biscoe* and *Dream* islands only. For what concerns the gender distribution, the samples include an almost equal number of specimen evenly observed on each island.\n",
    "\n",
    "</div>"
   ]
  },
  {
   "cell_type": "code",
   "execution_count": null,
   "metadata": {},
   "outputs": [],
   "source": [
    "# Describing data printed in the output.\n",
    "print(\"\\n\",\"Displaying the mean of the bill length, bill depth, flipper length and body mass for each penguin species:\",\"\\n\")\n",
    "\n",
    "# Calculate the mean of each measure for each subset of the species variable with Pandas groupby and mean functions.\n",
    "mean_lengths = data.groupby('species')['bill_length_mm'].mean()\n",
    "\n",
    "# Print the mean bill length for each subset.\n",
    "print(mean_lengths)\n",
    "\n",
    "# Calculate the mean bill depth for each subset.\n",
    "mean_depths = data.groupby('species')['bill_depth_mm'].mean()\n",
    "\n",
    "# Print the mean bill depth for each subset.\n",
    "print(mean_depths)\n",
    "\n",
    "# Calculate the mean flipper length for each subset.\n",
    "mean_flipper_lengths = data.groupby('species')['flipper_length_mm'].mean()\n",
    "\n",
    "# Print the mean flipper length for each subset.\n",
    "print(mean_flipper_lengths)\n",
    "\n",
    "# Calculate the mean body mass for each subset.\n",
    "mean_body_mass = data.groupby('species')['body_mass_g'].mean()\n",
    "\n",
    "# Print the mean body mass for each subset.\n",
    "print(mean_body_mass)"
   ]
  },
  {
   "cell_type": "markdown",
   "metadata": {},
   "source": [
    "<div align=\"justify\">\n",
    "\n",
    "The *Chinstrap* is the species with the longer and deeper bill of all the three species, while the *Gentoo* is the heaviest species of all and is also the kind of penguin with the longer flipper.\n",
    "\n",
    "</div>"
   ]
  },
  {
   "cell_type": "markdown",
   "metadata": {},
   "source": [
    "<div align=\"justify\">\n",
    "\n",
    "Once we have established which kind of data are being analysed, I can determine the graphical representation tequinques to compare and examine them best. My main point of reference for this topic is [Toward Science](https://towardsdatascience.com/penguins-dataset-overview-iris-alternative-9453bb8c8d95) website.\n",
    "\n",
    "</div>"
   ]
  },
  {
   "cell_type": "markdown",
   "metadata": {},
   "source": [
    "<div align=\"justify\">\n",
    "\n",
    "**INFO ON EACH SINGULAR VARIABLE**\n",
    "\n",
    "I am using the following Pandas functions to give a detailed description of each individual variables. My point of reference for the following data manipulation is [SparkByExamples.com](https://sparkbyexamples.com/pandas/get-pandas-dataframe-shape/).\n",
    "\n",
    "From the above reports it is clear that the *Adelie* species is present on all the three islands taken into consideration, while the *Chinstrap* and *Gentoo* species are respectively hosted on the *Biscoe* and *Dream* islands only. For what concerns the gender distribution, the samples include an almost equal number of specimen evenly observed on each island.\n",
    "\n",
    "\n",
    "\n",
    "Variables can be *dependent* or *independent* and this basic discrimination depends on their roles in an experiment or in a statistical study. This two classes can be further characterised and distinguished into *categorical* or *continuous*.\n",
    "\n",
    "1. *Dependent variable*: A dependent variable is a variable whose outcome or result depends on, or is influenced by, changes in its causes $\\Rightarrow **The dependent variable is often plotted on the y-axis of a graph**.\n",
    "\n",
    "2. *Independent variable*: The independent variable is the variable that is intentionally changed or manipulated to observe its effect on the dependent variable $\\Rightarrow **The independent variable is often plotted on the x-axis of a graph**.\n",
    "\n",
    "For instance, if a test mark can be considered a dependent variable and the many factors- such as the hours students spent in preparing on an exam or IQ level- can be considered independent variables: in fact, the scores are expected to be different if these causes are somehow modified. In data analysis, examining how the dependent variables vary when their independent variables are manipulated can uncover insights and it is essential to make meaningful conclusions about cause and effect relationships. If you're interested in exploring the relationship between two variables, it's common to represent the independent variable (the one you suspect influences the other) on the x-axis and the dependent variable (the one you suspect is influenced) on the y-axis. In this way, it is possible to highlight how the changes in the x-axis variable affect the y-axis variable. Here, my main studies are based on the article titled [\"A Grahic Primer”](https://mathbench.umd.edu/modules/visualization_graph/page02.htm#:~:text=Scientists%20like%20to%20say%20that,left%20side%2C%20vertical%20one).\n",
    "\n",
    "As already mentioned, both dependent and independent variables can be categorised as either *categorical* or *continuous*. \n",
    "\n",
    "* *Categorical variables* are variables that represent qualitative characteristics or attributes $\\Rightarrow **In graphs, categorical variables are often represented using labels or names**.\n",
    "\n",
    "In relation to the Palmer Penguins dataset, it is necessary to examine further two variants of categorical variables: *nominal* and *dichotomous* variables. A nominal variable is a type of categorical variable where the categories have no inherent order or ranking. In other words, the categories are simply labels without any specific value or hierarchy associated with them. A dichotomous variable is a type of categorical variable that has only two possible categories or outcomes. These categories are typically labeled as \"yes\" or \"no,\" \"true\" or \"false,\" or \"0\" and \"1\".\n",
    "\n",
    "In our case, the *species* and the *islands* are nominal categorical variables while the *sex* is also a nominal variable of the dichotomous type:\n",
    "\n",
    "  - *Species*: It represents the species of penguins such as Adelie, Chinstrap, or Gentoo. As already seen, Python interpreter reads the column where their are stored as a string data type, as each species name is a label or category.\n",
    "   \n",
    "   - *Island*: It represents the island where the penguin was observed, such as Torgersen, Biscoe, or Dream. Since these island names are also categories, they can be also represented using Python's string data type.\n",
    "   \n",
    "   - *Sex*: It represents the gender of the penguin that can be either male or female. The sex variable can be represented using Python's string data type or using a binary variable (0 for male, 1 for female) using Python's integer ( for instance 0 or 1) or boolean data types.\n",
    "\n",
    "\n",
    "* *Continuous variables*: Continuous variables are variables that represent numerical quantities and can take on any value within a certain range. They are typically measured on a continuous scale. Continuous variables are characterised by having an infinite number of possible values between any two values. Examples of continuous variables include height, weight, temperature, and time. \n",
    "\n",
    "In the Palmer Penguin dataset, the continuous variables are *bill length*, *bill depth*, *flipper length* and *body mass* and they are expressed in numbers, namely millimetres and grams. For numerical variables, you can use Python's float data type (**float**) or integer data type (**int**) to represent the measurements. *Floats* are used to preserve decimal places in the values, while *ints* if the measurements are whole numbers only.\n",
    "\n",
    "To understand the different types of variables, I have used as source of information [Laerd website](https://statistics.laerd.com/statistical-guides/types-of-variable.php/).\n",
    "\n",
    "\n",
    "**What are then the dependent variables that we should focus on when using the different independent variables?**\n",
    "\n",
    "Obviously the elements in the dataset that can vary when the other attributes are differently combined are the penguins' species and our aim can be to establish a principle to be used to predict what is the specific dependent categorical variable if we have a minimum set of independent variables.\n",
    "\n",
    "Once identified which variables stored in the dataset and in the target, the next step would be using the peculiarities of each species.\n",
    "\n",
    "In order to achieve a clear portrait of the species of penguins, we can use the dataframe to depict and come to assumptions using the independent variables that characterise each dependent variable. Specifically, we can answer the three following questions:\n",
    "\n",
    "\n",
    "1. What is the difference in mesurements between the three different species?\n",
    "\n",
    "2 Is there any specific characteristic that distinguishes more one species from the others?\n",
    "\n",
    "When this description is fully deployed, we can pass to compare and build relationships between the species and try to find a possible linear border of discrimination which allows to draw the minimum conditions we can predict what dependent variable we are examining with a given set of independent parameters.\n",
    "\n",
    "</div>"
   ]
  },
  {
   "cell_type": "markdown",
   "metadata": {},
   "source": [
    "***"
   ]
  },
  {
   "cell_type": "markdown",
   "metadata": {},
   "source": [
    "<div align=\"justify\">\n",
    "\n",
    "### Task 3\n",
    "\n",
    "> For each of the variables in the penguins data set, suggest what probability distribution from the numpy random distributions list is the most appropriate to the model of the vatiable.\n",
    "\n",
    "</div>"
   ]
  },
  {
   "cell_type": "markdown",
   "metadata": {},
   "source": [
    "<div align=\"justify\">\n",
    "\n",
    "**MODELLING VARIABLES AND PROBABILITY DISTRIBUTION**\n",
    "\n",
    "Modelling variables with probability distributions is a technique used to understand and describe patterns and characteristics of data and the choice of a specific probability distribution depends on the type of variable analysed and the target pursued.\n",
    "\n",
    "In fact,  a probability distribution is a mathematical function used to explore the probability of different possible values of a variable and is used to represent the number of times each possible value occurs in a sample. This means that when we model a variable we are essentially shaping a set of information with a determined distribution that best represents the observed variable.\n",
    "\n",
    "**NOMINAL VARIABLES**\n",
    "\n",
    "Considering the Palmer Penguins dataset, the categorical type of variables can be further classified into *nominal* with *three levels* - as the “species” with “Chinstrap”, Adeline” and “Gentoo” subclasses and the “islands” with “Dream”, “Torgersen” and “Biscoe” subclasses - and *ordinal* with *two classes* - as “sex” with “male” and “female” subclasses.\n",
    "\n",
    "This class level discrimination requires a different probability distributions:\n",
    "\n",
    "$\\Rightarrow$ In fact, to model nominal variables with more than two states, such as the **Species** and the **Island** variable, we need a **MULTINOMIAL DISTRIBUTION**.\n",
    "\n",
    "$\\Rightarrow$ Whereas the **Sex** category, the probability distribution chosen is the **BINOMIAL DISTRIBUTION** distribution where only two states are allowed.  \n",
    "\n",
    "A *binomial random variable* is a number of successes in an experiment consisting of *N* trails and is associated with a binomial experiment in which the binomial random variable specifies the number of successes or failures that occurred within that sample space.\n",
    "\n",
    "The NumPy probability distribution selected is, therefore, the **numpy.random.multinomial** function for the **Species** and the **Island** variables and the **numpy.random.binomial** function for the **sex** class.\n",
    "\n",
    "My main points of reference for the above assumptions are the following lectures found on the [Machine Learning & Simulation YouTube channel]( https://www.youtube.com/watch?v=421uW9aZHio) and [ritvikmath YouTube channel]( https://www.youtube.com/watch?v=Dkc_hcVWDpA&t=3s).\n",
    "\n",
    "</div>"
   ]
  },
  {
   "cell_type": "markdown",
   "metadata": {},
   "source": [
    "<div align=\"justify\">\n",
    "\n",
    "**CONTINOUS VARIABLES**\n",
    "\n",
    "In relation to the **Bill length**, the **Bill depth**, the **Flipper length** and the **Body mass** measurements, to select the probability distribution that can better model these continuous variables we can first check the actual data distribution to see in which each variable reasonably fit.\n",
    "\n",
    "In order to get a sense of the data's distribution, I will then give a visual representation of the variables plotting their patterns with histograms. This kind of graph is the most simple tool to group the data into intervals and this allows a visualization where the data can appear either **normally distributed**, **skewed**, or with **multiple modes** (peaks).\n",
    "\n",
    "</div>"
   ]
  },
  {
   "cell_type": "code",
   "execution_count": 10,
   "metadata": {},
   "outputs": [
    {
     "data": {
      "image/png": "[encoded data removed]",
      "text/plain": [
       "<Figure size 640x480 with 1 Axes>"
      ]
     },
     "metadata": {},
     "output_type": "display_data"
    }
   ],
   "source": [
    "continuous_variable_1 = data['bill_length_mm']\n",
    "\n",
    "plt.hist(continuous_variable_1, bins=30, color='blue', alpha=0.7)\n",
    "plt.xlabel('Value')\n",
    "plt.ylabel('Frequency')\n",
    "plt.title('Histogram of the 1st Continuous Variable: \"Bill Length\"')\n",
    "plt.show()"
   ]
  },
  {
   "cell_type": "code",
   "execution_count": 4,
   "metadata": {},
   "outputs": [
    {
     "data": {
      "image/png": "[encoded data removed]",
      "text/plain": [
       "<Figure size 640x480 with 1 Axes>"
      ]
     },
     "metadata": {},
     "output_type": "display_data"
    }
   ],
   "source": [
    "continuous_variable_2 = data['bill_depth_mm']\n",
    "\n",
    "plt.hist(continuous_variable_2, bins=30, color='blue', alpha=0.7)\n",
    "plt.xlabel('Value')\n",
    "plt.ylabel('Frequency')\n",
    "plt.title('Histogram of the 2nd Continuous Variable: \"Bill Depth\"')\n",
    "plt.show()"
   ]
  },
  {
   "cell_type": "code",
   "execution_count": 4,
   "metadata": {},
   "outputs": [
    {
     "data": {
      "image/png": "[encoded data removed]",
      "text/plain": [
       "<Figure size 640x480 with 1 Axes>"
      ]
     },
     "metadata": {},
     "output_type": "display_data"
    }
   ],
   "source": [
    "continuous_variable_3 = data['flipper_length_mm']\n",
    "\n",
    "plt.hist(continuous_variable_3, bins=30, color='blue', alpha=0.7)\n",
    "plt.xlabel('Value')\n",
    "plt.ylabel('Frequency')\n",
    "plt.title('Histogram of the 3rd Continuous Variable: \"Flipper Length\"')\n",
    "plt.show()"
   ]
  },
  {
   "cell_type": "code",
   "execution_count": 6,
   "metadata": {},
   "outputs": [
    {
     "data": {
      "image/png": "[encoded data removed]",
      "text/plain": [
       "<Figure size 640x480 with 1 Axes>"
      ]
     },
     "metadata": {},
     "output_type": "display_data"
    }
   ],
   "source": [
    "continuous_variable_4 = data['body_mass_g']\n",
    "\n",
    "plt.hist(continuous_variable_4, bins=30, color='blue', alpha=0.7)\n",
    "plt.xlabel('Value')\n",
    "plt.ylabel('Frequency')\n",
    "plt.title('Histogram of the 4th Continuous Variable: \"Body Mass\"')\n",
    "plt.show()"
   ]
  },
  {
   "cell_type": "markdown",
   "metadata": {},
   "source": [
    "<div align=\"justify\">\n",
    "\n",
    "As a second step, I will here display which are the most common probability distributions and then pass to check which can better represent the Palmer Penguins data set continous variables:\n",
    "\n",
    "1. **Normal Distribution (or Gaussian Distribution)**: This is the most widely used distribution in statistics and is characterized by a bell-shaped curve symmetric around its mean. Many natural phenomena, such as height or weight, can be approximated by a normal distribution.\n",
    "\n",
    "![Example of Normal Distribution](https://raw.githubusercontent.com/AndreaCignoni/FundamentalsOfDataAnalysis/main/Images/Normal-distribution-of-SAT-scores.webp)\n",
    "\n",
    "2. **Uniform Distribution**: In this distribution, all values within a certain range have equal probability. It can be visualized as a rectangular shape with a constant probability throughout its range.\n",
    "\n",
    "![Example of Uniform Distribution](https://raw.githubusercontent.com/AndreaCignoni/FundamentalsOfDataAnalysis/main/Images/uniform_distribution_discrete.png.webp)\n",
    "\n",
    "3. **Exponential Distribution**: It is commonly used to model the time between events in a Poisson process. It is skewed to the right and has a decreasing probability density function (pdf). For example, it can be used to model the time between customer arrivals at a store.\n",
    "\n",
    "![Example of Exponential Distribution](Images/Exponential_distribution_pdf_-_public_domain.svg.png)\n",
    "\n",
    "4. **Gamma Distribution**: This distribution is a generalization of the exponential distribution and is suitable for modeling positive, continuous variables. It is often used to model waiting times, failure times, or duration times.\n",
    "\n",
    "![Example of Gamma Distribution](https://raw.githubusercontent.com/AndreaCignoni/FundamentalsOfDataAnalysis/main/Images/gamma_threshold.png-2.webp)\n",
    "\n",
    "5. **Beta Distribution**: This distribution is characterized by its flexibility to model a wide range of shapes, from skewed to symmetric. It is often used to model data restricted to a specific range, such as probabilities or proportions.\n",
    "\n",
    "![Example of Beta Distribution](Images/beta-distribution-graph.jpg)\n",
    "\n",
    "6. **Log-Normal Distribution**: It is a distribution where the logarithm of the variable follows a normal distribution. It is commonly used to model variables that have skewed, positive-only data, such as income or stock prices.\n",
    "\n",
    "![Example of Log-Normal Distribution](Images/Log-Normal.gif)\n",
    "\n",
    "My analysis here is based on the information found on [Analytics Vidhya](https://www.analyticsvidhya.com/blog/2017/09/6-probability-distributions-data-science/).\n",
    "\n",
    "</div>"
   ]
  },
  {
   "cell_type": "markdown",
   "metadata": {},
   "source": [
    "### **CONCLUSIONS**"
   ]
  },
  {
   "cell_type": "markdown",
   "metadata": {},
   "source": [
    "<div align=\"justify\">\n",
    "\n",
    "To come to a conclusion, the above plots show that the **BILL LENGTH**, the **BILL DEPTH** and the **FLIPPER LENGTH** variables are all two peaked and present a bimodality data representation. The bimodality suggests that the data belong to different species. But, however, *a part from the bill length that presents a second irregular peak*, each group or cluster display a data distribution which is approximately spread around the mean in a symmetrical manner. Therefore, I find that **the normal distribution would be a suitable choice** for modelling the first curve of the **BILL LENGTH** variable and the other two projections generated by the **BILL DEPTH** and the **FLIPPER LENGTH** variables. Whereas a **LOG NORMAL** distribution seems more appropriate for **the second curve of the BILL LENGTH** variable.  \n",
    "\n",
    "In relation to the **BODY MASS** variable, we can observe that the two histogram curves generated are both right-skewed, which means they have a long tail on the right side, and, since all the values are also positive, the probability distribution chosen is the **log-normal distribution**.\n",
    "\n",
    "</div>"
   ]
  },
  {
   "cell_type": "markdown",
   "metadata": {},
   "source": [
    "***"
   ]
  },
  {
   "cell_type": "markdown",
   "metadata": {},
   "source": [
    "<div align=\"justify\">\n",
    "\n",
    "### Task 4\n",
    "\n",
    "> Suppose you are flipping two coins, each with a probability p of giving heads. Plot the entropy of the total number of heads versus *p*.\n",
    "\n",
    "</div>"
   ]
  },
  {
   "cell_type": "markdown",
   "metadata": {},
   "source": [
    "<div align=\"justify\">\n",
    "\n",
    "To visually represent the relationship between the randomness and the likelihood of obtaining a specific number of heads from two coin tosses, it is necessary to define **ENTROPY** associated with the given event. Entropy is a fundamental concept utilised in Decision Trees for decision-making and classification tasks. It serves to identify the most informative features for data splitting.\n",
    "\n",
    "*Entropy* is also the basis of *Mutual Information*, a metric that quantifies the degree of dependence between two random variables. This highlights the broader applicability of entropy in the field of information theory.\n",
    "\n",
    "Furthermore, *entropy *is foundational to *Relative Entropy* and *Cross Entropy*. These concepts are crucial in quantifying differences between probability distributions, finding applications in fields such as machine learning and information theory.\n",
    "\n",
    "Entropy, as a measure, is derived from other key elements in its formula: **PROBABILITY** and **SURPRISE**. In this context, **probability represents the likelihood of different outcomes**, while **surprise measures the unexpectedness of an outcome.** The present information derive of my studying over the [StatQuest with Josh Starmer Youtube channel](https://www.youtube.com/@statquest) and specifically over their [Entropy (for data science)lecture](https://www.youtube.com/watch?v=YtebGVx-Fxw).\n",
    "\n",
    "Entropy is represented by the following formula:\n",
    "\n",
    "\n",
    "$H(X) = - ∑ [ p(x) * log₂(p(x)) ]$\n",
    "\n",
    "\n",
    "Here, $H(X)$ represents the entropy of a random variable *X*. The summation ($\\sum$) is taken over all possible outcomes of *X*. $p(x)$ represents the probability of each outcome *x* (**PROBABILITY**), and $\\log_{2}{(p(x))}$ is the logarithm of the probability base 2 (**SURPRISE**). The negative sign is included in the formula to ensure that the entropy is a non-negative value. It is a convention used to align with the intuitive understanding that entropy increases as uncertainty or randomness increases. The inclusion of the negative sign ensures that the overall entropy value is positive.\n",
    "\n",
    "- **PROBABILITY**\n",
    "\n",
    "In statistics, **Probability**  is strictly linked to the idea of **Expected Values**. **Probability** quantifies the likelihood or chance of an event occurring. On the other hand, **Expected Value** represents the average outcome or value we would anticipate over a large number of repetitions.  \n",
    "\n",
    "In simpler terms, the *Expected value* concept describes the long-term average level of a random variable based on its probability distribution. For example, in a context of a bet, it reflects the expected amount we can win or loose if we engage in a bet numerous times.  \n",
    "\n",
    "**Probability Distribution** is a mathematical function that specifies the probability associated with different possible values of a variable. The probability distribution is often denoted as $P(X = x)$, where $X$ is the random variable and $x$ represents a specific outcome.\n",
    "\n",
    "The formula for the *Expected Value of a discrete random variable X is expressed as:\n",
    "\n",
    "\n",
    "$E(X) = sum{x}P(X=x)$\n",
    "\n",
    "$\\Rightarrow$ The *Expected Value* of each outcome is the sum times the probability of observing each outcomes of $x$.\n",
    "\n",
    "Here,\n",
    "$E(X) is the *Expected Value*;\n",
    "\n",
    "$Σ$ = **Expected value**;\n",
    "\n",
    "$x$ = **each possible outcome** (in a bet it would be the money at stake);\n",
    "\n",
    "$P$ = the **Probability** of observing each outcome. \n",
    "$\\Rightarrow$ Probability is the result of Favourable cases / possible cases x 100:\n",
    "\n",
    "$P = (Favorable Cases / Possible Cases) × 100$\n",
    "\n",
    "The throw of a coin is a **DISCREET EVENT** characterised by a random variable that can only take on a finite or countable number of values. \n",
    "\n",
    "In contrast, a **CONTINUOUS DISTRIBUTION** refers to a probability distribution where the random variable can take on any value within a certain range or interval.\n",
    "\n",
    "For *continuous distribution*, the formula for the *Expected Values* involves an integral:\n",
    "\n",
    "$[ E(x) = \\int x \\: L(X=x) \\: dx]$\n",
    "\n",
    "- $\\int$ represents the integral symbol;\n",
    "* $x$ is each possible value within range;\n",
    "+ $L$ denotes the likelihood or probability density function.\n",
    "\n",
    "The expected value formula replaces an integral symbol $∫$ instead of a sum and the likelihood $L$ (the y axes) instead of $P*$ probability.\n",
    "\n",
    "- **SURPRISE**\n",
    "\n",
    "Where Probability is LOW, Surprise is HIGH; conversely where Probability is HIGH, Surprise us LOW. However, it's crucial to note that surprise cannot be determined merely as the reciprocal of the probability formula.\n",
    "\n",
    "- Considering a scenario involving a coin that never returns tails, SURPRISE IS ZERO. When the probability of obtaining heads is 1, then the probability of getting heads to approach 0. Yet, if we attempt to obtain this by applying the inverse of the probability formula, the result is 1, not 0:\n",
    "\n",
    "$\\frac{1}{p(Heads)} = \\frac{1}{1} = 1$ (instead of 0)\n",
    "\n",
    "$\\Rightarrow$ To compute surprise accurately, the logarithmic function of the inverse of the probability function is employed. The surprise for obtaining heads is calculated as follows:\n",
    "Surprise for HEADS = $\\log \\left(\\frac{1}{{p(\\text{Heads})}}\\right) = \\log \\left(\\frac{1}{1}\\right) = \\log(1) = 0$\n",
    "\n",
    "However, the surprise for obtaining tails faces an issue due to the probability of tails being 0:\n",
    "Surprise for TAIL = $\\log \\left(\\frac{1}{p(\\text{Tail})}\\right) = \\log \\left(\\frac{1}{0}\\right) = \\log(1) - \\log(0) = \\text{undefined}$\n",
    "\n",
    "Since in the case of a coin that returns only heads, the probability of getting tails is 0 and, thus, the occurrence of tails is non-existent and it does not make sense of quantify the Surprise of something that will never happen.\n",
    "\n",
    "**SURPRISE is, therefore, the logarithm of the INVERSE OF PROBABILITY.**\n",
    "\n",
    "$\\Rightarrow$ The function *log* serves as a tool for reversing exponentials and powers, extracting the \"power\" to which a specific number (the base) must be elevated to yield another number. For instance, in the equation $10^2 = 100$, the base is 10, raised to the power of 2 to produce 100. Conversely, the logarithm function, denoted as “log”, operates inversely by extracting the exponent as follows: $log_10 100 =2$, the logarithm with a base of 10 reveals that 10 raised to the power of 2 equals 100.\n",
    "\n",
    "The *Log function* must be followed by the number of events that could possibly occur and, in the case of a coin, the *Log function* employs a base of 2, signifying one event for heads and another for tails. The expression for surprise ($S$) using the *Log function* is as follows:\n",
    "\n",
    "$\\S = \\log_2 \\left(\\frac{1}{p(x)}\\right)$\n",
    "\n",
    "- **ENTROPY**\n",
    "\n",
    "The fundamental relationship between Surprise and Probability forms the essence of Entropy. In essence, Entropy represents the expected value of the Surprise. In the instance of a coin toss, the Entropy is thus calculated:\n",
    "\n",
    "<u>((Probability 1 x Number of tosses (events) ) x Surprise 1 + ((Probability 2 x Number of tosses (events))/Number of tosses (events)= Entropy (Expected value of Surprise)</u>\n",
    "\n",
    "If we divide the Expected value of Surprise by the number of events, or of tosses as in our case, the result will be the average amount of Surprise for each event = The Entropy of the Coin.\n",
    "\n",
    "Since the probability of each possible result is multiplied by the number of events and then the result is again divided by the same number of events, this element (the number of events) can be eliminated and the formula will look like:\n",
    "\n",
    "$E(Surprise)=(Probability 1 * Surprise 1) + (Probability 2 * Surprise 2) = Entropy$ as an Expected Value= $\\sum{x}P(X=x)$\n",
    "\n",
    "Here, X, denoting the specific value for surprise, is multiplied by the probability of observing that specific value, and this process is repeated for each result.\n",
    "\n",
    "\n",
    "This approach allows the specific value for surprise to be replaced by the Surprise formula, which is then substituted with the Probability formula $p(x)$:\n",
    "\n",
    "ENTROPY = $\\sum \\log_2\\left(\\frac{1}{p(x)}\\right) \\cdot p(x)$\n",
    "\n",
    "$\\Rightarrow$ ENTROPY is the product of SURPRISE and the PROBABILITY for SURPRISE.\n",
    "\n",
    "However, this is not the conventional formula widely accepted; the two terms, SURPRISE $\\log_2(\\frac{1}{p(x)}) and PROBABILITY $(p(x))$, must be interchanged.\n",
    "\n",
    "$\\sum p(x) \\log_2\\left(\\frac{1}{p(x)}\\right)$\n",
    "\n",
    "Next, the property of the logarithm is applied to convert the fraction into subtraction. This procedure is grounded in the logarithmic identity known as the \"quotient rule,\" which permits the transformation of a division (fraction) into a subtraction when taking the logarithm.\n",
    "\n",
    "$\\sum p(x)\\log(1) - \\log(p(x))$\n",
    "\n",
    "As the log 1 is equal to 0:\n",
    "\n",
    "$\\Rightarrow$ $\\sum p(x)(0 - \\log(p(x)))$\n",
    "\n",
    "Subsequently, both terms in the difference are multiplied by $p(x)$:\n",
    "$\\Rightarrow$ $\\sum -p(x) \\log(p(x))$\n",
    "\n",
    "Finally, the minus sign is extracted from the summation:\n",
    "\n",
    "$\\Rightarrow$  Entropy = $-\\sum p(x) \\log(p(x))$ \n",
    "\n",
    "\n",
    "Entropy serves as a metric of uncertainty or randomness within a system, and it is often used in information theory. In this formula, $H(X)$ represents the entropy of the system. The term $(1-p)^2 log2(1-p)^2$ signifies the contribution to entropy when both coins yields tails. The term $2p(1-p) log2(2p(1-p))$ represents the contribution to entropy when one coin gives heads and the other tails, or vice versa. The term $p^2 log2(p^2)$ denotes the contribution to entropy when both coins yield heads.\n",
    "\n",
    "By substituting different values for $(p)$, one can calculate the entropy of the system and gain insight into the level of uncertainty or randomness associated with the the outcomes.\n",
    "\n",
    "In order to create my graph, I first define the two key variables: **entropy** which is initially an empty list designed to store the values of the entropy function, and **probability**, established using the **np.linspace** function from NumPy. This function is employed to allocate a range of probabilities distributed between 0 and 1 $([0, 1])$. The **np.linspace** function takes three arguments: *start*, *stop*, and *num*.\n",
    "\n",
    "- *start* represents the starting value of the range.\n",
    "- *stop* represents the end value of the range.\n",
    "*num* specifies the number of values desired within the range defined by *start* and *stop*.\n",
    "\n",
    "In simpler terms, **np.linspace** is a powerful tool for generating evenly spaced values within a specified range, facilitating the creation of a comprehensive set of probabilities for subsequent graph plotting.   \n",
    "\n",
    "The code then executes a loop where it sequentially processes each  *p* value in the **p_values** array. By the end of the loop, the *entropy* array will contain the entropy values corresponding to each probability value in **p_values**. Within this loop, the probability of obtaining 0, 1, or 2 heads in a coin toss is calculated using the entropy formula. This computation involves **taking the logarithm (base 2) of each of the three probabilities (p_0_heads, p_1_head, p_2_heads), multiplying each result by the corresponding probability, and then summing them up with a negative sign**. \n",
    "\n",
    "- The probability for 0, 1, and 2 heads in a coin toss are expressed as follows:\n",
    "\n",
    "$P(0)$ (no heads): $(1−p)2$\n",
    " \n",
    "$P(1)$ (one head): $2p(1−p)$\n",
    "\n",
    "$P(2)$ (two heads): $p2$\n",
    "\n",
    "These represent the potential outcomes for the total number of heads when flipping two coins.\n",
    "\n",
    "In case of the coin toss, the Entropy $(H(X))$ is computed using the following formula:\n",
    "\n",
    "$H(X) = -p \\log_2(p) - (1-p) \\log_2(1-p)$\n",
    "\n",
    "Considering 3 three specified cases, the entropy formula for the total number of heads, taking into account the probability $(p)$ of getting heads when flipping two coins, is expressed as:\n",
    "\n",
    "$H(X) = -( (1-p)^2 log_2(1-p)^2 + 2p(1-p) log_2(2p(1-p)) + p^2 log_2(p^2) )$\n",
    "\n",
    "This comprehensive formula captures the entropy for varying probabilities of obtaining heads when flipping two coins and accounts for the three potential outcomes (0, 1 and 2 heads).\n",
    "\n",
    "In the Python implementation of this formula, the **np.log2** function is applied to each term, effectively taking the logarithm of the corresponding probability values with base 2. The negative sign and summation are also applied as per the entropy formula.\n",
    "\n",
    "</div>"
   ]
  },
  {
   "cell_type": "code",
   "execution_count": 3,
   "metadata": {},
   "outputs": [
    {
     "data": {
      "image/png": "[encoded data removed]",
      "text/plain": [
       "<Figure size 640x480 with 1 Axes>"
      ]
     },
     "metadata": {},
     "output_type": "display_data"
    }
   ],
   "source": [
    "# Define the range of probabilities p between very close to 0 and very close to 1.\n",
    "# Having a range of values with small increments allows creating smore precise graphs compared to using a smaller number of values.\n",
    "p_values = np.linspace(0.00000001, 0.99999999, 1001) # The `1001` values from `np.linspace` provide a fine-grained granularity'.\n",
    "\n",
    "\n",
    "# Initialize an empty array for entropy values.\n",
    "entropy = []\n",
    "\n",
    "# For each probability p, calculate the entropy.\n",
    "for p in p_values:\n",
    "    # Calculate the probability of getting 0, 1, or 2 heads.\n",
    "    p_0_heads = (1-p)**2\n",
    "    p_1_head = 2 * p * (1-p)\n",
    "    p_2_heads = p**2\n",
    "    \n",
    "    # Calculate the entropy using the formula.\n",
    "    entropy_val = - (p_0_heads * np.log2(p_0_heads) + p_1_head * np.log2(p_1_head) + p_2_heads * np.log2(p_2_heads))\n",
    "    \n",
    "    # Append the entropy to the array.\n",
    "    entropy.append(entropy_val)\n",
    "\n",
    "# Plot the entropy versus probability.\n",
    "plt.plot(p_values, entropy)\n",
    "plt.xlabel('Probability (p)')\n",
    "plt.ylabel('Entropy')\n",
    "plt.title('Entropy of Total Number of Heads vs Probability')\n",
    "plt.show();\n"
   ]
  },
  {
   "cell_type": "markdown",
   "metadata": {},
   "source": [
    "***\n",
    "\n"
   ]
  },
  {
   "cell_type": "markdown",
   "metadata": {},
   "source": [
    "<div align=\"justify\">\n",
    "\n",
    "### Task 5\n",
    "\n",
    "> Create an appropriate individual plot for each of the variables in the penguin data set.\n",
    "\n",
    "</div>"
   ]
  },
  {
   "cell_type": "markdown",
   "metadata": {},
   "source": [
    "***\n",
    "\n",
    "# End"
   ]
  }
 ],
 "metadata": {
  "kernelspec": {
   "display_name": "base",
   "language": "python",
   "name": "python3"
  },
  "language_info": {
   "codemirror_mode": {
    "name": "ipython",
    "version": 3
   },
   "file_extension": ".py",
   "mimetype": "text/x-python",
   "name": "python",
   "nbconvert_exporter": "python",
   "pygments_lexer": "ipython3",
   "version": "3.10.9"
  },
  "orig_nbformat": 4
 },
 "nbformat": 4,
 "nbformat_minor": 2
}
