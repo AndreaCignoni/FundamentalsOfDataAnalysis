{
 "cells": [
  {
   "cell_type": "markdown",
   "metadata": {},
   "source": [
    "# Fundamentals of Data Analysis Tasks\n",
    "\n",
    "**Andrea Cignoni**\n",
    "\n",
    "***"
   ]
  },
  {
   "cell_type": "markdown",
   "metadata": {},
   "source": [
    "# Task 1\n",
    "\n",
    "> The Collatz conjecture is a famous unsolved problem in mathematics. The problem is to prove that if you start with any positive integer $x$ and repeatedly apply the function $f(x)$ below, you always get stuck in the repeating sequence 1, 4, 2, 1, 4, 2, . . ."
   ]
  },
  {
   "cell_type": "code",
   "execution_count": null,
   "metadata": {},
   "outputs": [],
   "source": [
    "# This function defines the calculation applied to the input number 'x'\n",
    "def f(x):\n",
    "    if x % 2 == 0: #This \"if\" clause checks whether the integer given is even or not\n",
    "        return x // 2 #If it is even it is devided by two\n",
    "    else:\n",
    "        return (3 * x) + 1 #If it is odd it then multiplied by 3 and then 1 is added"
   ]
  },
  {
   "cell_type": "code",
   "execution_count": null,
   "metadata": {},
   "outputs": [],
   "source": [
    "# This function formats the sequence of integers generated with the 'x' function\n",
    "def collatz (x):\n",
    "    while x != 1: #This 'while' clause stops the loop at number 1\n",
    "        print(x, end=', ')\n",
    "        x = f(x) # Update 'x' with the format defined in the collatz function\n",
    "    print (x)"
   ]
  },
  {
   "cell_type": "code",
   "execution_count": null,
   "metadata": {},
   "outputs": [],
   "source": [
    "collatz(1000)"
   ]
  },
  {
   "cell_type": "markdown",
   "metadata": {},
   "source": [
    "***"
   ]
  },
  {
   "cell_type": "markdown",
   "metadata": {},
   "source": [
    "# Task 2\n",
    "\n",
    "> Give an overview of the famous penguins data set, explaining the types of variables it contains. Suggest the types of variables that should be used to model them in Python, explaining your rationale."
   ]
  },
  {
   "cell_type": "markdown",
   "metadata": {},
   "source": [
    "<div align=\"center\">\n",
    "\n",
    "# **PENGUINS DATA SET**\n",
    "</div>"
   ]
  },
  {
   "cell_type": "markdown",
   "metadata": {},
   "source": [
    "<div align=\"justify\">\n",
    "The Palmer penguins dataset is a collection of data about penguins in the Palmer Archipelago, Antarctica. These data were collected from 2007 - 2009 by Dr. Kristen Gorman with the Palmer Station Long Term Ecological Research Program, part of the US Long Term Ecological Research Network and were collected on 344 penguins living on three islands (Torgersen, Biscoe, and Dream).<br/>\n",
    "\n",
    "The parameters considered are the followings:   \n",
    "\n",
    "\n",
    "+ Island name (Dream, Torgersen, or Biscoe);\n",
    "- Species name (Adelie, Chinstrap, or Gentoo);\n",
    "* Billl length (mm);\n",
    "+ Bill depth (mm);\n",
    "- Flipper length (mm);\n",
    "* Body mass (g);\n",
    "- Sex.\n",
    "</div>\n"
   ]
  },
  {
   "cell_type": "markdown",
   "metadata": {},
   "source": [
    "<div align=\"center\">\n",
    "\n",
    "![Screenshot](Penguins.png) ![Screenshot](Penguins1.png)\n",
    "</div>"
   ]
  },
  {
   "cell_type": "markdown",
   "metadata": {},
   "source": [
    "<div align=\"justify\">\n",
    "\n",
    "**LOADING THE FILE AND LIBRARIES IMPORTED**<br/>\n",
    "\n",
    "The famous Palmer penguins dataset is downloaded from mwaskom/seaborn-data ![Github](https://github.com/mwaskom/). Since the information appears readable and structured just as the standard CSV tabular disposition (a comma separates individual items and each record is on a new line), I have proceeded to open it as such in my Python repository.\n",
    "\n",
    "Before proceeding to load the data in a data frame, I have proceeded to import the necessary modules to analyse all the variable represented in the file: Pandas; Matplotlib; Numpy; Seaborn.<br/>\n",
    "\n",
    "- Pandas\n",
    "\n",
    "Pandas is an open source Python package that is used for data science/data analysis and machine learning tasks. The common operations performed with Pandas are also: data cleansing, data fill, data normalization, merges and joins, data visualization, statistical analysis, data inspection, loading and saving data and much more. Here, I rely on Pandas for indexing the data frame, for manipulating it and extracting the sorted information from specified columns and rows. My main source for its usage is pandas.pydata.org\n",
    "\n",
    "- Matplotlib\n",
    "\n",
    "Matplotlib is a Python library used to create 2D graphs and plots through scripts. The pyplot module is explecially useful when it comes to control line styles, font properties, formatting axes etc. It supports a very wide variety of graphs and plots namely - histogram, bar charts, power spectra, error charts etc.\n",
    "\n",
    "- Numpy\n",
    "\n",
    "Matplotlib is used along with NumPy to provide an environment with an effective and fast numeric computing. Numpy furnishes a multidimensional array object and various derived objects (such as masked arrays and matrices).\n",
    "\n",
    "- Seaborn\n",
    "\n",
    "Lastly, in order to clearly display a graphic overview of the whole dataset through pair plots, I have imported Seaborn. This library is built on top of the Matplotlib data visualization library and can perform the exploratory analysis that fits best to show the result of my searches.\n",
    "\n",
    "</div>"
   ]
  },
  {
   "cell_type": "code",
   "execution_count": 2,
   "metadata": {},
   "outputs": [],
   "source": [
    "import pandas as pd\n",
    "import numpy as np\n",
    "import matplotlib.pyplot as plt\n",
    "import seaborn as sns\n",
    "\n",
    "# Extracting penguin dataset's 7 variables for data representation\n",
    "# File downloaded from (https://github.com/mwaskom/seaborn-data/blob/master/penguins.csv)\n",
    "\n",
    "data = pd.read_csv('penguins.csv')"
   ]
  },
  {
   "cell_type": "markdown",
   "metadata": {},
   "source": [
    "<div align=\"justify\">\n",
    "\n",
    "**DATA DESCRIPTION**\n",
    "\n",
    "In order to give a visual overview of the data contained in the dataset, I have utilised a number of functions provided by Pandas and my point of reference is ![realpython.com](https://realpython.com/pandas-dataframe/). As already pointed out, the observations of the penguins are classified through 7 classes of parameters.\n",
    "</div>"
   ]
  },
  {
   "cell_type": "code",
   "execution_count": 2,
   "metadata": {},
   "outputs": [
    {
     "name": "stdout",
     "output_type": "stream",
     "text": [
      "\n",
      " Below are shown the first and the last five rows of the dataset\n",
      "    species     island  bill_length_mm  bill_depth_mm  flipper_length_mm  \\\n",
      "0    Adelie  Torgersen            39.1           18.7              181.0   \n",
      "1    Adelie  Torgersen            39.5           17.4              186.0   \n",
      "2    Adelie  Torgersen            40.3           18.0              195.0   \n",
      "3    Adelie  Torgersen             NaN            NaN                NaN   \n",
      "4    Adelie  Torgersen            36.7           19.3              193.0   \n",
      "..      ...        ...             ...            ...                ...   \n",
      "339  Gentoo     Biscoe             NaN            NaN                NaN   \n",
      "340  Gentoo     Biscoe            46.8           14.3              215.0   \n",
      "341  Gentoo     Biscoe            50.4           15.7              222.0   \n",
      "342  Gentoo     Biscoe            45.2           14.8              212.0   \n",
      "343  Gentoo     Biscoe            49.9           16.1              213.0   \n",
      "\n",
      "     body_mass_g     sex  \n",
      "0         3750.0    MALE  \n",
      "1         3800.0  FEMALE  \n",
      "2         3250.0  FEMALE  \n",
      "3            NaN     NaN  \n",
      "4         3450.0  FEMALE  \n",
      "..           ...     ...  \n",
      "339          NaN     NaN  \n",
      "340       4850.0  FEMALE  \n",
      "341       5750.0    MALE  \n",
      "342       5200.0  FEMALE  \n",
      "343       5400.0    MALE  \n",
      "\n",
      "[344 rows x 7 columns]\n"
     ]
    }
   ],
   "source": [
    "print(\"\\n\",\"Below are shown the first and the last five rows of the dataset\")\n",
    "\n",
    "print(data)"
   ]
  },
  {
   "cell_type": "code",
   "execution_count": 3,
   "metadata": {},
   "outputs": [
    {
     "name": "stdout",
     "output_type": "stream",
     "text": [
      "\n",
      " The following is the summary of the dataframe, including information about the column names and their corresponding data types: \n",
      "\n",
      "<class 'pandas.core.frame.DataFrame'>\n",
      "RangeIndex: 344 entries, 0 to 343\n",
      "Data columns (total 7 columns):\n",
      " #   Column             Non-Null Count  Dtype  \n",
      "---  ------             --------------  -----  \n",
      " 0   species            344 non-null    object \n",
      " 1   island             344 non-null    object \n",
      " 2   bill_length_mm     342 non-null    float64\n",
      " 3   bill_depth_mm      342 non-null    float64\n",
      " 4   flipper_length_mm  342 non-null    float64\n",
      " 5   body_mass_g        342 non-null    float64\n",
      " 6   sex                333 non-null    object \n",
      "dtypes: float64(4), object(3)\n",
      "memory usage: 18.9+ KB\n",
      "None\n"
     ]
    }
   ],
   "source": [
    "# Check the DataFrame structure\n",
    "print(\"\\n\",\"The following is the summary of the dataframe, including information about the column names and their corresponding data types:\",\"\\n\")\n",
    "\n",
    "print(data.info())"
   ]
  },
  {
   "cell_type": "markdown",
   "metadata": {},
   "source": [
    "<div align=\"justify\">\n",
    "\n",
    "**As shown by the above overview, the Palmer Penguin dataset includes two types of data: *strings* for the \"species\", \"islands\" and \"sex\"indeces and *floats64* for the \"bill length\", \"bill depth\", \"flipper length\" and \"body mass\", also identifiable as 3 categorical variables and 4 numerical variables.**\n",
    "\n",
    "</div>"
   ]
  },
  {
   "cell_type": "markdown",
   "metadata": {},
   "source": [
    "<div align=\"justify\">\n",
    "\n",
    "**INFO ON EACH SINGULAR VARIABLE**\n",
    "\n",
    "I am using the following Pandas functions to give a detailed description of each individual variables. My point of reference for the following data maniplation is ![SparkByExamples.com](https://sparkbyexamples.com/pandas/get-pandas-dataframe-shape/)\n",
    "\n",
    "</div>"
   ]
  },
  {
   "cell_type": "code",
   "execution_count": 5,
   "metadata": {},
   "outputs": [
    {
     "name": "stdout",
     "output_type": "stream",
     "text": [
      "\n",
      " Number of samples for each class: \n",
      "\n",
      "Adelie       152\n",
      "Gentoo       124\n",
      "Chinstrap     68\n",
      "Name: species, dtype: int64\n"
     ]
    }
   ],
   "source": [
    "# Number of observation taken for each species\n",
    "print(\"\\n\",\"Number of samples for each species:\",\"\\n\")\n",
    "\n",
    "# Examining the species variable with Pandas value_counts function\n",
    "\n",
    "print(data['species'].value_counts())"
   ]
  },
  {
   "cell_type": "code",
   "execution_count": null,
   "metadata": {},
   "outputs": [],
   "source": [
    "print(\"\\n\",\"Levels of the variable island:\",\"\\n\")\n",
    "\n",
    "# using the Pandas unique()function to show the different islands where the penguins observations were taken\n",
    "\n",
    "island_levels = data['island'].unique()\n",
    "\n",
    "# Print the levels of \"island\"\n",
    "print(island_levels)"
   ]
  },
  {
   "cell_type": "code",
   "execution_count": 18,
   "metadata": {},
   "outputs": [
    {
     "name": "stdout",
     "output_type": "stream",
     "text": [
      "\n",
      " Population of penguins species living on each island: \n",
      "\n",
      "species    Adelie  Chinstrap  Gentoo\n",
      "island                              \n",
      "Biscoe       44.0        NaN   124.0\n",
      "Dream        56.0       68.0     NaN\n",
      "Torgersen    52.0        NaN     NaN\n",
      "\n",
      " Gender distribution of the whole penguins population observed: \n",
      "\n",
      "MALE      168\n",
      "FEMALE    165\n",
      "Name: sex, dtype: int64\n",
      "\n",
      " Gender distribution for each species on each island: \n",
      "\n",
      "sex        FEMALE  MALE\n",
      "species                \n",
      "Adelie         73    73\n",
      "Chinstrap      34    34\n",
      "Gentoo         58    61\n"
     ]
    }
   ],
   "source": [
    "print(\"\\n\",\"Population of penguins species living on each island:\",\"\\n\")\n",
    "\n",
    "# Using Pandas groupby function to show how the penguin population is spreadon the three islands where the observation were taken\n",
    "\n",
    "species_counts = data.groupby(['island', 'species']).size().unstack() # Using `.size()` function to count the number of occurrences in the grouped variables through the groupby() function\n",
    "#The unstack() function is used to pivot the two parameters, \"sex\" and \"island\"\n",
    "print(species_counts)\n",
    "\n",
    "print(\"\\n\",\"Gender distribution of the whole penguins population observed:\",\"\\n\")\n",
    "\n",
    "# Count the number of penguins in each gender through the \"value_counts\" Pandas function\n",
    "gender_counts = data['sex'].value_counts()\n",
    "\n",
    "print(gender_counts)\n",
    "\n",
    "print(\"\\n\",\"Gender distribution for each species on each island:\",\"\\n\")\n",
    "\n",
    "# Group the data by species and gender, and count the number of occurrences through the \"size\" function and using the reset_index function to reset and introduce a new column containing the current index values.\n",
    "gender_distribution = data.groupby(['species', 'sex']).size().reset_index(name='count')\n",
    "\n",
    "# Creating a pivot the table to get gender distribution as columns\n",
    "gender_distribution = gender_distribution.pivot(index='species', columns='sex', values='count')\n",
    "\n",
    "# Display the gender distribution by species\n",
    "print(gender_distribution)"
   ]
  },
  {
   "cell_type": "markdown",
   "metadata": {},
   "source": [
    "<div align=\"justify\">\n",
    "\n",
    "From the above reports it is clear that the *Adelie* species is present on all the three islands taken into consideration, while the *Chinstrap* and *Gentoo* species are respectively hosted on the *Biscoe* and *Dream* islands only. For what concerns the gender distribution, the samples include an almost equal number of specimen evenly observed on each island.\n",
    "\n",
    "</div>"
   ]
  },
  {
   "cell_type": "code",
   "execution_count": 12,
   "metadata": {},
   "outputs": [
    {
     "name": "stdout",
     "output_type": "stream",
     "text": [
      "\n",
      " Displaying the mean of the bill length, bill depth, flipper length and body mass for each penguin species: \n",
      "\n",
      "species\n",
      "Adelie       38.791391\n",
      "Chinstrap    48.833824\n",
      "Gentoo       47.504878\n",
      "Name: bill_length_mm, dtype: float64\n",
      "species\n",
      "Adelie       18.346358\n",
      "Chinstrap    18.420588\n",
      "Gentoo       14.982114\n",
      "Name: bill_depth_mm, dtype: float64\n",
      "species\n",
      "Adelie       189.953642\n",
      "Chinstrap    195.823529\n",
      "Gentoo       217.186992\n",
      "Name: flipper_length_mm, dtype: float64\n",
      "species\n",
      "Adelie       3700.662252\n",
      "Chinstrap    3733.088235\n",
      "Gentoo       5076.016260\n",
      "Name: body_mass_g, dtype: float64\n"
     ]
    }
   ],
   "source": [
    "print(\"\\n\",\"Displaying the mean of the bill length, bill depth, flipper length and body mass for each penguin species:\",\"\\n\")\n",
    "\n",
    "# Calculate the mean of each measure for each subset of the species variable with Pandas groupby and mean functions\n",
    "mean_lengths = data.groupby('species')['bill_length_mm'].mean()\n",
    "\n",
    "# Print the mean bill length for each subset\n",
    "print(mean_lengths)\n",
    "\n",
    "# Calculate the mean bill depth for each subset\n",
    "mean_depths = data.groupby('species')['bill_depth_mm'].mean()\n",
    "\n",
    "# Print the mean bill depth for each subset\n",
    "print(mean_depths)\n",
    "\n",
    "# Calculate the mean flipper length for each subset\n",
    "mean_flipper_lengths = data.groupby('species')['flipper_length_mm'].mean()\n",
    "\n",
    "# Print the mean flipper length for each subset\n",
    "print(mean_flipper_lengths)\n",
    "\n",
    "# Calculate the mean body mass for each subset\n",
    "mean_body_mass = data.groupby('species')['body_mass_g'].mean()\n",
    "\n",
    "# Print the mean body mass for each subset\n",
    "print(mean_body_mass)"
   ]
  },
  {
   "cell_type": "markdown",
   "metadata": {},
   "source": [
    "<div align=\"justify\">\n",
    "\n",
    "The *Chinstrap* is the species with the longer and deeper bill of all the three species, while the *Gentoo* is the heaviest species of all and is also the kind of penguin with the longer flipper.\n",
    "\n",
    "</div>"
   ]
  },
  {
   "cell_type": "markdown",
   "metadata": {},
   "source": [
    "<div align=\"justify\">\n",
    "\n",
    "Once we have established which kind of data are being analysed, I can determine the graphical representation tequinques to compare and examine them best. My main point of reference for this topic is [Toward Science](https://towardsdatascience.com/penguins-dataset-overview-iris-alternative-9453bb8c8d95) website.\n",
    "\n",
    "</div>"
   ]
  },
  {
   "cell_type": "markdown",
   "metadata": {},
   "source": [
    "<div align=\"justify\">\n",
    "\n",
    "**TYPES OF VARIABLES IN THE DATASET**\n",
    "\n",
    "\n",
    "Variables can be *dependent* or *independent* and this basic discrimnation depends on their roles in an experiment or in a statistical study. This two classes can be further characterised and distinguished into *categoricals* or *continous*.\n",
    "\n",
    "1. *Dependent variable*: A dependent variable is a variable whose outcome or result depends on, or is influenced by, changes in its causes (called the independent variable) ==> **The dependent variable is often plotted on the y-axis of a graph**\n",
    "\n",
    "2. *Independent variable*: The independent variable is the variable that is intentionally changed or manipulated to observe its effect on the dependent variable ==> **The independent variable is often plotted on the x-axis of a graph**\n",
    "\n",
    "For instance, if a test mark can be considered a dependent variable and the many factors- such as the hours students spent in preparing the exam or their IQ level- can be considered independent variables: in fact, the scores are expected to be different if these causes are somehow modified. In data analysis, examinig how the dependent variables vary when their independent variables are manipulated can uncover insights and it is essential to make meaningful conclusions about cause and effect relationships. If you're interested in exploring the relationship between two variables, it's common to represent the independent variable (the one you suspect influences the other) on the x-axis and the dependent variable (the one you suspect is influenced) on the y-axis. In this way, it is possible to highight how the changes in the x-axis variable affect the y-axis variable. Here, my main studies are based on the article titled [\"A Grahic Primer\"](https://mathbench.umd.edu/modules/visualization_graph/page02.htm#:~:text=Scientists%20like%20to%20say%20that,left%20side%2C%20vertical%20one) found on https://mathbench.umd.edu/index.html.\n",
    "\n",
    "As already mentioned, both dependent and independent variables can be categorized as either *categorical* or *continuous*. \n",
    "\n",
    "* *Categorical variables* are variables that represent qualitative characteristics or attributes ==> **In graphs, categorical variables are often represented using labels or names**\n",
    "\n",
    "In relation to the Palmer Penguins dataset, it is necessary to examine further two variants of categorical variables: *nominal* and *dichotomous* variables. A nominal variable is a type of categorical variable where the categories have no inherent order or ranking. In other words, the categories are simply labels without any specific value or hierarchy associated with them. A dichotomous variable is a type of categorical variable that has only two possible categories or outcomes. These categories are typically labeled as \"yes\" or \"no,\" \"true\" or \"false,\" or \"0\" and \"1\".\n",
    "\n",
    "In our case, the *species* and the *islands* are nominal categorical variables while the *sex* is also a nominal variable of the dichotomous type:\n",
    "\n",
    "  - Species: It represents the species of penguins such as Adelie, Chinstrap, or Gentoo. As already seen, Python interpreter reads the column where their are stored as a string data type, as each species name is a label or category.\n",
    "   \n",
    "   - Island: It represents the island where the penguin was observed, such as Torgersen, Biscoe, or Dream. Since these island names are also categories, they can be also represented using Python's string data type.\n",
    "   \n",
    "   - Sex: It represents the gender of the penguin that can be either male or female. The sex variable can be represented using Python's string data type or using a binary variable (0 for male, 1 for female) using Python's integer ( for instance 0 or 1) or boolean data types.\n",
    "\n",
    "\n",
    "* *Continuous variables*: Continuous variables are variables that represent numerical quantities and can take on any value within a certain range. They are typically measured on a continuous scale. Continuous variables are characterized by having an infinite number of possible values between any two values. Examples of continuous variables include height, weight, temperature, and time. \n",
    "\n",
    "In the Palmer Penguin dataset, the continuous variables are *bill length*, *bill depth*, *flipper length* and *body mass* and they are expressed in numbers, namely millimiters and grams. For numerical variables, you can use Python's float data type (float) or integer data type (int) to represent the measurements. Use float if you want to preserve decimal places in the values, or use int if the measurements are whole numbers only.\n",
    "\n",
    "To understand the different types of variables, I have used as source of information [Laerd website](https://statistics.laerd.com/statistical-guides/types-of-variable.php/).\n",
    "\n",
    "\n",
    "**What are then the dependent variables that we should focus on when using the different independent variables?**\n",
    "\n",
    "Obviously the elements in the dataset that can vary when the other attributes are differently combined are the penguins' species and our aim can be to establish a principle that can be used to predict what is the specific dependent categorical variable if we have a minimum set of independent variables.\n",
    "\n",
    "Once identified which viariables are stored in our dataset and my target, the next step would be using the peculiarities of each species.\n",
    "\n",
    "In order to achieve a clear portrait of the species of penguins, we can use the dataframe to depict and come to assumptions using the independent variables that characterise each dependent variable. Specifically, we can answer the three following questions:\n",
    "\n",
    "1. How are the three penguins' species distributed over each island?\n",
    "\n",
    "2. What is the difference in mesurements between the three different species?\n",
    "\n",
    "3. Is there any specific characteristic that distinguishes more one species from the others?\n",
    "\n",
    "When this description is fully deployed, we can pass to compare and build relationships between the species and try to find a possible linear border of discrimination which allows to draw the minimum conditions we can predict what dependent variable we are examining with a given set of independent parameters.\n",
    "\n",
    "</div>"
   ]
  },
  {
   "cell_type": "markdown",
   "metadata": {},
   "source": [
    "***"
   ]
  },
  {
   "cell_type": "markdown",
   "metadata": {},
   "source": [
    "<div align=\"justify\">\n",
    "\n",
    "### Task 3\n",
    "\n",
    "> For each of the variables in the penguins data set, suggest what probability distribution from the numpy random distributions list is the most appropriate to the model of the vatiable.\n",
    "\n",
    "</div>"
   ]
  },
  {
   "cell_type": "markdown",
   "metadata": {},
   "source": [
    "<div align=\"justify\">\n",
    "\n",
    "**MODELING VARIABLES AND PROBABILITY DISTRIBUTION**\n",
    "\n",
    "Modelling variables with probability distributions is a technique used to understand and describe lpatterns and characteristics of data and  the choice of a specific probability distribution depends on the type of variable analysed and the target pursued.\n",
    "\n",
    "In fact,  a probability distribution is a mathematical function used to explore the probability of different possible values of a variable and is used to represent the number of times each possible value occurs in a sample. As a matter of fact, when we model a variable we are essentially shaping a set of information with a determined distribution that best represents the observed variable.\n",
    "\n",
    "**NOMINAL VARIABLES**\n",
    "\n",
    "Considering the Palmer Penguins dataset, the categorical type of variables can be further classified into *nominal* with *three levels* - as the “species” with “Chinstrap”, Adeline” and “Gentoo” subclasses and the “islands” with “Dream”, “Torgersen” and “Biscoe” subclasses - and *ordinal* with *two classes* - as “sex” with “male” and “female” subclasses.\n",
    "\n",
    "This class level discrimination requires a different probability distribution’s selection:\n",
    "\n",
    "==> In fact, to model nominal variables with more than two states, such as the “species” and the “island” variable, we need *MULTINOMIAL DISTRIBUTION*.\n",
    "\n",
    "==> Whereas the “sex” category, the probability distribution chosen is the *BERNOULLI* distribution where only two states are allowed. \n",
    "\n",
    "The Numpy probability distribution selected is, therefore, the [**numpy.random.multinomial**](https://docs.scipy.org/doc/numpy-1.9.0/reference/generated/numpy.random.multinomial.html#numpy-random-multinomial) function for the “species” and the “island” variables and the ![numpy.random.binomial]( https://docs.scipy.org/doc/numpy-1.9.0/reference/generated/numpy.random.multinomial.html#numpy-random-multinomial) function for the “sex” class.\n",
    "\n",
    "My main points of reference for the above assumptions are the following lectures found on the [Machine Learning & Simulation YouTube channel]( https://www.youtube.com/watch?v=421uW9aZHio) and [ritvikmath YouTube channel]( https://www.youtube.com/watch?v=Dkc_hcVWDpA&t=3s).\n",
    "\n",
    "</div>"
   ]
  },
  {
   "cell_type": "markdown",
   "metadata": {},
   "source": [
    "<div align=\"justify\">\n",
    "\n",
    "Here's an example code that demonstrates how to model the **SPECIES** variable with the *MULTINOMIAL DISTRIBUTION* using Numpy:\n",
    "\n",
    "</div>"
   ]
  },
  {
   "cell_type": "code",
   "execution_count": 7,
   "metadata": {},
   "outputs": [
    {
     "name": "stdout",
     "output_type": "stream",
     "text": [
      "Species: 0, Count: 441\n",
      "Species: 1, Count: 221\n",
      "Species: 2, Count: 338\n"
     ]
    }
   ],
   "source": [
    "\n",
    "# Get the species column as an array\n",
    "species = data['species'].values\n",
    "\n",
    "# Create a dictionary to map species to unique identifiers\n",
    "species_map = {species: index for index, species in enumerate(np.unique(species))}\n",
    "\n",
    "# Map the species array to unique identifiers\n",
    "species = np.array([species_map[sp] for sp in species])\n",
    "\n",
    "# Count the occurrences of each species\n",
    "species_count = np.bincount(species)\n",
    "\n",
    "# Define the probabilities for each species based on the counts\n",
    "species_probabilities = species_count / len(species)\n",
    "\n",
    "# Generate multinomial samples for the species variable\n",
    "num_samples = 1000  # Choose 1000 samples as the number to generate\n",
    "samples = np.random.multinomial(num_samples, species_probabilities)\n",
    "\n",
    "# Print the samples\n",
    "for i, count in enumerate(samples):\n",
    "    print(f'Species: {i}, Count: {count}')"
   ]
  },
  {
   "cell_type": "markdown",
   "metadata": {},
   "source": [
    "<div align=\"justify\">\n",
    "\n",
    "Here's an example code that demonstrates how to model the **SEX** variable with the *BINOMIAL DISTRIBUTION* using Numpy:\n",
    "\n",
    "</div>"
   ]
  },
  {
   "cell_type": "code",
   "execution_count": 8,
   "metadata": {},
   "outputs": [
    {
     "name": "stdout",
     "output_type": "stream",
     "text": [
      "Sample: male\n"
     ]
    }
   ],
   "source": [
    "# Get the sex column as an array\n",
    "sex = data['sex'].values\n",
    "\n",
    "# Count the occurrences of each sex\n",
    "sex_count = pd.value_counts(sex)\n",
    "\n",
    "# Define the probability of 'female' based on the counts\n",
    "p_female = sex_count['FEMALE'] / len(sex)\n",
    "\n",
    "# Generate a random sample from the Bernoulli distribution using the binomial function\n",
    "sample = np.random.binomial(1, p_female)\n",
    "\n",
    "# Map the sample result to the appropriate outcome\n",
    "if sample == 0:\n",
    "    outcome = 'male'\n",
    "else:\n",
    "    outcome = 'female'\n",
    "\n",
    "# Print the sample outcome\n",
    "print(f'Sample: {outcome}')"
   ]
  },
  {
   "cell_type": "markdown",
   "metadata": {},
   "source": [
    "<div align=\"justify\">\n",
    "\n",
    "**CONTINOUS VARIABLES**\n",
    "\n",
    "In relation to the “bill length”, the “bill depth”, the “flipper length” and the “body mass” measurements, in orderto select the probability distribution that can better model these continuous variables, we can first check the actual data distribution to see in which each variable reasonably fit.\n",
    "\n",
    "To get a sense of the data's distribution, I will then give a visual representation of the variables plotting their patterns using histograms that are the most simple tool to group the data into intervals to visualize whether the data is normally distributed, skewed, or has multiple modes (peaks).\n",
    "\n",
    "</div>"
   ]
  },
  {
   "cell_type": "code",
   "execution_count": 3,
   "metadata": {},
   "outputs": [
    {
     "data": {
      "image/png": "[encoded data removed]",
      "text/plain": [
       "<Figure size 640x480 with 1 Axes>"
      ]
     },
     "metadata": {},
     "output_type": "display_data"
    }
   ],
   "source": [
    "continuous_variable_1 = data['bill_length_mm']\n",
    "\n",
    "plt.hist(continuous_variable_1, bins=30, color='blue', alpha=0.7)\n",
    "plt.xlabel('Value')\n",
    "plt.ylabel('Frequency')\n",
    "plt.title('Histogram of the 1st Continuous Variable: \"Bill Length\"')\n",
    "plt.show()"
   ]
  },
  {
   "cell_type": "code",
   "execution_count": 4,
   "metadata": {},
   "outputs": [
    {
     "data": {
      "image/png": "[encoded data removed]",
      "text/plain": [
       "<Figure size 640x480 with 1 Axes>"
      ]
     },
     "metadata": {},
     "output_type": "display_data"
    }
   ],
   "source": [
    "continuous_variable_2 = data['bill_depth_mm']\n",
    "\n",
    "plt.hist(continuous_variable_2, bins=30, color='blue', alpha=0.7)\n",
    "plt.xlabel('Value')\n",
    "plt.ylabel('Frequency')\n",
    "plt.title('Histogram of the 2nd Continuous Variable: \"Bill Depth\"')\n",
    "plt.show()"
   ]
  },
  {
   "cell_type": "code",
   "execution_count": 4,
   "metadata": {},
   "outputs": [
    {
     "data": {
      "image/png": "[encoded data removed]",
      "text/plain": [
       "<Figure size 640x480 with 1 Axes>"
      ]
     },
     "metadata": {},
     "output_type": "display_data"
    }
   ],
   "source": [
    "continuous_variable_3 = data['flipper_length_mm']\n",
    "\n",
    "plt.hist(continuous_variable_3, bins=30, color='blue', alpha=0.7)\n",
    "plt.xlabel('Value')\n",
    "plt.ylabel('Frequency')\n",
    "plt.title('Histogram of the 3rd Continuous Variable: \"Flipper Length\"')\n",
    "plt.show()"
   ]
  },
  {
   "cell_type": "code",
   "execution_count": 6,
   "metadata": {},
   "outputs": [
    {
     "data": {
      "image/png": "[encoded data removed]",
      "text/plain": [
       "<Figure size 640x480 with 1 Axes>"
      ]
     },
     "metadata": {},
     "output_type": "display_data"
    }
   ],
   "source": [
    "continuous_variable_4 = data['body_mass_g']\n",
    "\n",
    "plt.hist(continuous_variable_4, bins=30, color='blue', alpha=0.7)\n",
    "plt.xlabel('Value')\n",
    "plt.ylabel('Frequency')\n",
    "plt.title('Histogram of the 4th Continuous Variable: \"Body Mass\"')\n",
    "plt.show()"
   ]
  },
  {
   "cell_type": "markdown",
   "metadata": {},
   "source": [
    "<div align=\"justify\">\n",
    "\n",
    "As a second step, I will here display which are the most common probability distributions and then pass to check which can better represent the Palmer Penguins continous variables:\n",
    "\n",
    "1. Normal Distribution (or Gaussian Distribution): This is the most widely used distribution in statistics. It is characterized by a bell-shaped curve and is symmetric around its mean. Many natural phenomena, such as height or weight, can be approximated by a normal distribution.\n",
    "\n",
    "![Example of Normal Distribution](https://raw.githubusercontent.com/AndreaCignoni/FundamentalsOfDataAnalysis/main/Images/Normal-distribution-of-SAT-scores.webp)\n",
    "\n",
    "2. Uniform Distribution: In this distribution, all values within a certain range have equal probability. It can be visualized as a rectangular shape with a constant probability throughout its range.\n",
    "\n",
    "![Example of Uniform Distribution](https://raw.githubusercontent.com/AndreaCignoni/FundamentalsOfDataAnalysis/main/Images/uniform_distribution_discrete.png.webp)\n",
    "\n",
    "3. Exponential Distribution: It is commonly used to model the time between events in a Poisson process. It is skewed to the right and has a decreasing probability density function (pdf). For example, it can be used to model the time between customer arrivals at a store.\n",
    "\n",
    "![Example of Exponential Distribution](Images/Exponential_distribution_pdf_-_public_domain.svg.png)\n",
    "\n",
    "4. Gamma Distribution: This distribution is a generalization of the exponential distribution and is suitable for modeling positive, continuous variables. It is often used to model waiting times, failure times, or duration times.\n",
    "\n",
    "![Example of Gamma Distribution](https://raw.githubusercontent.com/AndreaCignoni/FundamentalsOfDataAnalysis/main/Images/gamma_threshold.png-2.webp)\n",
    "\n",
    "5. Beta Distribution: This distribution is characterized by its flexibility to model a wide range of shapes, from skewed to symmetric. It is often used to model data restricted to a specific range, such as probabilities or proportions.\n",
    "\n",
    "![Example of Beta Distribution](Images/beta-distribution-graph.jpg)\n",
    "\n",
    "6. Log-Normal Distribution: It is a distribution where the logarithm of the variable follows a normal distribution. It is commonly used to model variables that have skewed, positive-only data, such as income or stock prices.\n",
    "\n",
    "![Example of Log-Normal Distribution](Images/Log-Normal.gif)\n",
    "\n",
    "My analysis here is based on the information found on [Analytics Vidhya](https://www.analyticsvidhya.com/blog/2017/09/6-probability-distributions-data-science/).\n",
    "\n",
    "</div>"
   ]
  },
  {
   "cell_type": "markdown",
   "metadata": {},
   "source": [
    "<div align=\"justify\">\n",
    "\n",
    "### **CONCLUSIONS**\n",
    "\n",
    "To come to a conclusion, the above plots show that the **bill length**, the **bill width** and the **flipper length** variables are all two peaked all presenting bimodality. Bimodality suggests that the data might have two distinct modes or clusters, which mainly is due to the presence of different species within the Palmer penguins dataset but, however, their data is approximately distributed around the means in a simmetrical manner. Besides, since each histogram displays two bell-shaped curves, with most values near the mean and fewer values towards the tails, **the normal distribution would be a suitable choice**. \n",
    "\n",
    "In relation to the **body mass** variable, we can observe that the histogram curve is right-skewed, which means it has a long tail on the right side and all the values are positive. Therefore, in such a situation, the most suitable probability distribution to model such a variable is the **log-normal distribution**.\n",
    "\n",
    "</div>"
   ]
  },
  {
   "cell_type": "markdown",
   "metadata": {},
   "source": [
    "***"
   ]
  },
  {
   "cell_type": "markdown",
   "metadata": {},
   "source": [
    "<div align=\"justify\">\n",
    "\n",
    "### Task 4\n",
    "\n",
    "> Suppose you are flipping two coins, each with a probability p of giving heads. Plot the entropy of the total number of heads versus *p*.\n",
    "\n",
    "</div>"
   ]
  },
  {
   "cell_type": "markdown",
   "metadata": {},
   "source": [
    "***\n",
    "\n",
    "# End"
   ]
  }
 ],
 "metadata": {
  "kernelspec": {
   "display_name": "base",
   "language": "python",
   "name": "python3"
  },
  "language_info": {
   "codemirror_mode": {
    "name": "ipython",
    "version": 3
   },
   "file_extension": ".py",
   "mimetype": "text/x-python",
   "name": "python",
   "nbconvert_exporter": "python",
   "pygments_lexer": "ipython3",
   "version": "3.10.9"
  },
  "orig_nbformat": 4
 },
 "nbformat": 4,
 "nbformat_minor": 2
}
